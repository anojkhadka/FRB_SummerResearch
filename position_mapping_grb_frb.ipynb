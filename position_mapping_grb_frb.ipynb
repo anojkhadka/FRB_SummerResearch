{
 "cells": [
  {
   "cell_type": "code",
   "execution_count": 1,
   "id": "ce3be8de",
   "metadata": {},
   "outputs": [],
   "source": [
    "import pandas as pd\n",
    "import matplotlib.pyplot as plt\n",
    "import numpy as np\n",
    "from astropy.coordinates import SkyCoord as coord\n",
    "import astropy.units as u\n",
    "from astropy.coordinates import Angle\n",
    "from astropy.time import Time\n",
    "import warnings\n",
    "warnings.filterwarnings('ignore')"
   ]
  },
  {
   "cell_type": "markdown",
   "id": "7ecbdd44",
   "metadata": {},
   "source": [
    "###  Step 1:  Importing gamma ray burst data"
   ]
  },
  {
   "cell_type": "markdown",
   "id": "6730cee7",
   "metadata": {},
   "source": [
    "<font color = 'purple'>Data I have used for gamma ray burst was taken form this site below.</font>\n",
    "\n",
    "https://swift.gsfc.nasa.gov/results/batgrbcat/summary_cflux/summary_general_info/summary_general.txt\n"
   ]
  },
  {
   "cell_type": "code",
   "execution_count": 2,
   "id": "9f977aab",
   "metadata": {},
   "outputs": [
    {
     "data": {
      "text/html": [
       "<div>\n",
       "<style scoped>\n",
       "    .dataframe tbody tr th:only-of-type {\n",
       "        vertical-align: middle;\n",
       "    }\n",
       "\n",
       "    .dataframe tbody tr th {\n",
       "        vertical-align: top;\n",
       "    }\n",
       "\n",
       "    .dataframe thead th {\n",
       "        text-align: right;\n",
       "    }\n",
       "</style>\n",
       "<table border=\"1\" class=\"dataframe\">\n",
       "  <thead>\n",
       "    <tr style=\"text-align: right;\">\n",
       "      <th></th>\n",
       "      <th>GRBname</th>\n",
       "      <th>Trig_ID</th>\n",
       "      <th>Trig_time_met</th>\n",
       "      <th>Trig_time_UTC</th>\n",
       "      <th>RA_ground</th>\n",
       "      <th>DEC_ground</th>\n",
       "      <th>Image_position_err</th>\n",
       "      <th>Image_SNR</th>\n",
       "      <th>T90</th>\n",
       "      <th>T90_err</th>\n",
       "      <th>T50</th>\n",
       "      <th>T50_err</th>\n",
       "      <th>Evt_start_sincetrig</th>\n",
       "      <th>Evt_stop_sincetrig</th>\n",
       "      <th>pcode</th>\n",
       "      <th>Trigger_method</th>\n",
       "      <th>XRT_detection</th>\n",
       "      <th>comment,,,</th>\n",
       "    </tr>\n",
       "  </thead>\n",
       "  <tbody>\n",
       "    <tr>\n",
       "      <th>0</th>\n",
       "      <td>GRB200829A</td>\n",
       "      <td>993768</td>\n",
       "      <td>620402400.000</td>\n",
       "      <td>2020-08-29T13:59:34.457300</td>\n",
       "      <td>2.511393e+02</td>\n",
       "      <td>7.236396e+01</td>\n",
       "      <td>1.821205e+00</td>\n",
       "      <td>1.291746e+01</td>\n",
       "      <td>1.310000e+01</td>\n",
       "      <td>3.079558e+00</td>\n",
       "      <td>2.684000e+00</td>\n",
       "      <td>4.882629e-02</td>\n",
       "      <td>-239</td>\n",
       "      <td>963</td>\n",
       "      <td>0.8828</td>\n",
       "      <td>image trigger</td>\n",
       "      <td>Yes</td>\n",
       "      <td>,,,</td>\n",
       "    </tr>\n",
       "  </tbody>\n",
       "</table>\n",
       "</div>"
      ],
      "text/plain": [
       "        GRBname         Trig_ID    Trig_time_met   \\\n",
       "0  GRB200829A         993768       620402400.000    \n",
       "\n",
       "          Trig_time_UTC            RA_ground       DEC_ground     \\\n",
       "0   2020-08-29T13:59:34.457300    2.511393e+02     7.236396e+01    \n",
       "\n",
       "    Image_position_err      Image_SNR         T90           T90_err      \\\n",
       "0      1.821205e+00       1.291746e+01    1.310000e+01    3.079558e+00    \n",
       "\n",
       "        T50           T50_err       Evt_start_sincetrig   Evt_stop_sincetrig   \\\n",
       "0   2.684000e+00    4.882629e-02            -239                   963          \n",
       "\n",
       "    pcode    Trigger_method   XRT_detection   comment,,,  \n",
       "0   0.8828    image trigger             Yes          ,,,  "
      ]
     },
     "execution_count": 2,
     "metadata": {},
     "output_type": "execute_result"
    }
   ],
   "source": [
    "column_names = ['GRBname', 'RA_ground', 'DEC_ground']\n",
    "df_grb = pd.read_csv('/home/astroguy/frb_summerresearch/grb_data_copy.csv', delimiter='|', header = 0)\n",
    "df_grb.head(1)"
   ]
  },
  {
   "cell_type": "markdown",
   "id": "b1e3f806",
   "metadata": {},
   "source": [
    "<font color = 'purple'>Note:  According to the description in the catalog RA_ground and DEC_ground both has been measured in the unit of degree.</font> "
   ]
  },
  {
   "cell_type": "code",
   "execution_count": 3,
   "id": "fb6a994f",
   "metadata": {},
   "outputs": [
    {
     "name": "stdout",
     "output_type": "stream",
     "text": [
      "(1391, 4)\n"
     ]
    },
    {
     "data": {
      "text/html": [
       "<div>\n",
       "<style scoped>\n",
       "    .dataframe tbody tr th:only-of-type {\n",
       "        vertical-align: middle;\n",
       "    }\n",
       "\n",
       "    .dataframe tbody tr th {\n",
       "        vertical-align: top;\n",
       "    }\n",
       "\n",
       "    .dataframe thead th {\n",
       "        text-align: right;\n",
       "    }\n",
       "</style>\n",
       "<table border=\"1\" class=\"dataframe\">\n",
       "  <thead>\n",
       "    <tr style=\"text-align: right;\">\n",
       "      <th></th>\n",
       "      <th>GRBname</th>\n",
       "      <th>Trig_time_UTC</th>\n",
       "      <th>RA_ground</th>\n",
       "      <th>DEC_ground</th>\n",
       "    </tr>\n",
       "  </thead>\n",
       "  <tbody>\n",
       "    <tr>\n",
       "      <th>0</th>\n",
       "      <td>GRB200829A</td>\n",
       "      <td>2020-08-29T13:59:34.457300</td>\n",
       "      <td>2.511393e+02</td>\n",
       "      <td>7.236396e+01</td>\n",
       "    </tr>\n",
       "  </tbody>\n",
       "</table>\n",
       "</div>"
      ],
      "text/plain": [
       "        GRBname          Trig_time_UTC            RA_ground     \\\n",
       "0  GRB200829A      2020-08-29T13:59:34.457300    2.511393e+02    \n",
       "\n",
       "     DEC_ground     \n",
       "0    7.236396e+01   "
      ]
     },
     "execution_count": 3,
     "metadata": {},
     "output_type": "execute_result"
    }
   ],
   "source": [
    "# Taking only necessary subset of the whold data from the catalog\n",
    "\n",
    "df_grb_subset = df_grb.iloc[:,[0,3,4,5]]\n",
    "print(df_grb_subset.shape)\n",
    "df_grb_subset.head(1)"
   ]
  },
  {
   "cell_type": "code",
   "execution_count": 4,
   "id": "fce929b9",
   "metadata": {},
   "outputs": [
    {
     "data": {
      "text/plain": [
       "[222, 271, 325, 430, 483, 786, 1110, 1188, 1283, 1389]"
      ]
     },
     "execution_count": 4,
     "metadata": {},
     "output_type": "execute_result"
    }
   ],
   "source": [
    "# Since some data are missing we want to get rid of those rows. Using for loop to pick the rows with no data.\n",
    "\n",
    "empty_row_num = []\n",
    "\n",
    "for num in np.arange(0, len(df_grb_subset.iloc[:])):\n",
    "    if df_grb_subset.iloc[num, 1] == ' N/A ' or df_grb_subset.iloc[num, 2] == ' N/A ':\n",
    "        empty_row_num.append(num)\n",
    "\n",
    "empty_row_num"
   ]
  },
  {
   "cell_type": "code",
   "execution_count": 5,
   "id": "fc62575e",
   "metadata": {},
   "outputs": [
    {
     "name": "stdout",
     "output_type": "stream",
     "text": [
      "(1381, 4)\n"
     ]
    }
   ],
   "source": [
    "# Using drop function to drop all the rows with no data. Ten rows with no data have been removed.\n",
    "\n",
    "df_grb_subset.drop(empty_row_num, axis = 0, inplace = True)\n",
    "print(df_grb_subset.shape)"
   ]
  },
  {
   "cell_type": "markdown",
   "id": "de21e32b",
   "metadata": {},
   "source": [
    "###  Step 2: Working with fast radio burst data"
   ]
  },
  {
   "cell_type": "markdown",
   "id": "7de6676a",
   "metadata": {},
   "source": [
    "<font color = 'purple'>Data taken from link below</font>\n",
    "\n",
    "https://www.herta-experiment.org/frbstats/catalogue"
   ]
  },
  {
   "cell_type": "code",
   "execution_count": 6,
   "id": "9fb611fa",
   "metadata": {},
   "outputs": [
    {
     "data": {
      "text/html": [
       "<div>\n",
       "<style scoped>\n",
       "    .dataframe tbody tr th:only-of-type {\n",
       "        vertical-align: middle;\n",
       "    }\n",
       "\n",
       "    .dataframe tbody tr th {\n",
       "        vertical-align: top;\n",
       "    }\n",
       "\n",
       "    .dataframe thead th {\n",
       "        text-align: right;\n",
       "    }\n",
       "</style>\n",
       "<table border=\"1\" class=\"dataframe\">\n",
       "  <thead>\n",
       "    <tr style=\"text-align: right;\">\n",
       "      <th></th>\n",
       "      <th>frb</th>\n",
       "      <th>utc</th>\n",
       "      <th>ra</th>\n",
       "      <th>dec</th>\n",
       "      <th>l</th>\n",
       "      <th>b</th>\n",
       "      <th>dm</th>\n",
       "      <th>flux</th>\n",
       "      <th>width</th>\n",
       "      <th>fluence</th>\n",
       "      <th>redshift</th>\n",
       "    </tr>\n",
       "  </thead>\n",
       "  <tbody>\n",
       "    <tr>\n",
       "      <th>0</th>\n",
       "      <td>FRB 20010125A</td>\n",
       "      <td>2001-01-25 0:29:16</td>\n",
       "      <td>19:06:53</td>\n",
       "      <td>-40:37:14</td>\n",
       "      <td>356.64</td>\n",
       "      <td>-20.02</td>\n",
       "      <td>790.3</td>\n",
       "      <td>0.54</td>\n",
       "      <td>0</td>\n",
       "      <td>0</td>\n",
       "      <td>0.7083</td>\n",
       "    </tr>\n",
       "  </tbody>\n",
       "</table>\n",
       "</div>"
      ],
      "text/plain": [
       "             frb                 utc        ra        dec       l      b  \\\n",
       "0  FRB 20010125A  2001-01-25 0:29:16  19:06:53  -40:37:14  356.64 -20.02   \n",
       "\n",
       "      dm  flux width fluence redshift  \n",
       "0  790.3  0.54     0       0   0.7083  "
      ]
     },
     "execution_count": 6,
     "metadata": {},
     "output_type": "execute_result"
    }
   ],
   "source": [
    "columns = ['ra', 'utc', 'dec', 'dm', 'flux', 'redshift', 'frb', 'l', 'b', 'width', 'fluence']\n",
    "df_herta = pd.read_csv('herta_frb_catalogue.csv', usecols=columns).replace('-', '0')\n",
    "df_herta.head(1)"
   ]
  },
  {
   "cell_type": "markdown",
   "id": "4222f397",
   "metadata": {},
   "source": [
    "<font color = 'purple'>Unit of RA in the catalog is hour:min:sec and that of declination is in deg:arcmin:arcsec</font>"
   ]
  },
  {
   "cell_type": "code",
   "execution_count": 7,
   "id": "63c7e024",
   "metadata": {},
   "outputs": [
    {
     "data": {
      "text/html": [
       "<div>\n",
       "<style scoped>\n",
       "    .dataframe tbody tr th:only-of-type {\n",
       "        vertical-align: middle;\n",
       "    }\n",
       "\n",
       "    .dataframe tbody tr th {\n",
       "        vertical-align: top;\n",
       "    }\n",
       "\n",
       "    .dataframe thead th {\n",
       "        text-align: right;\n",
       "    }\n",
       "</style>\n",
       "<table border=\"1\" class=\"dataframe\">\n",
       "  <thead>\n",
       "    <tr style=\"text-align: right;\">\n",
       "      <th></th>\n",
       "      <th>frb</th>\n",
       "      <th>utc</th>\n",
       "      <th>ra</th>\n",
       "      <th>dec</th>\n",
       "    </tr>\n",
       "  </thead>\n",
       "  <tbody>\n",
       "    <tr>\n",
       "      <th>805</th>\n",
       "      <td>FRB 20220501C</td>\n",
       "      <td>2022-05-01 2:11:09</td>\n",
       "      <td>23:29:50</td>\n",
       "      <td>-32:27:00</td>\n",
       "    </tr>\n",
       "  </tbody>\n",
       "</table>\n",
       "</div>"
      ],
      "text/plain": [
       "               frb                 utc        ra        dec\n",
       "805  FRB 20220501C  2022-05-01 2:11:09  23:29:50  -32:27:00"
      ]
     },
     "execution_count": 7,
     "metadata": {},
     "output_type": "execute_result"
    }
   ],
   "source": [
    "herta_subset = df_herta.iloc[:, [0, 1,2,3]]\n",
    "herta_subset.tail(1)"
   ]
  },
  {
   "cell_type": "markdown",
   "id": "c7d22886",
   "metadata": {},
   "source": [
    "<font color = 'purple'>We convert RA and DEC to the unit of degree to make it uniform with the unit of RA and DEC in GRB data. We use astropy library to convert coordinates to degress. </font>\n",
    "\n",
    "Reference:  https://docs.astropy.org/en/stable/coordinates/angles.html\n",
    "\n",
    "<font color = 'purple'>This site maintained by penstate can be used as checker to see if our conversion has been done correctly.</font>\n",
    "\n",
    "https://www.swift.psu.edu/secure/toop/convert.htm"
   ]
  },
  {
   "cell_type": "code",
   "execution_count": 8,
   "id": "69a926eb",
   "metadata": {},
   "outputs": [
    {
     "data": {
      "text/html": [
       "<div>\n",
       "<style scoped>\n",
       "    .dataframe tbody tr th:only-of-type {\n",
       "        vertical-align: middle;\n",
       "    }\n",
       "\n",
       "    .dataframe tbody tr th {\n",
       "        vertical-align: top;\n",
       "    }\n",
       "\n",
       "    .dataframe thead th {\n",
       "        text-align: right;\n",
       "    }\n",
       "</style>\n",
       "<table border=\"1\" class=\"dataframe\">\n",
       "  <thead>\n",
       "    <tr style=\"text-align: right;\">\n",
       "      <th></th>\n",
       "      <th>frb</th>\n",
       "      <th>utc</th>\n",
       "      <th>ra</th>\n",
       "      <th>dec</th>\n",
       "      <th>RA_in_deg</th>\n",
       "      <th>DEC_in_deg</th>\n",
       "    </tr>\n",
       "  </thead>\n",
       "  <tbody>\n",
       "    <tr>\n",
       "      <th>0</th>\n",
       "      <td>FRB 20010125A</td>\n",
       "      <td>2001-01-25 0:29:16</td>\n",
       "      <td>19:06:53</td>\n",
       "      <td>-40:37:14</td>\n",
       "      <td>286.720833</td>\n",
       "      <td>-40.620556</td>\n",
       "    </tr>\n",
       "  </tbody>\n",
       "</table>\n",
       "</div>"
      ],
      "text/plain": [
       "             frb                 utc        ra        dec   RA_in_deg  \\\n",
       "0  FRB 20010125A  2001-01-25 0:29:16  19:06:53  -40:37:14  286.720833   \n",
       "\n",
       "   DEC_in_deg  \n",
       "0  -40.620556  "
      ]
     },
     "execution_count": 8,
     "metadata": {},
     "output_type": "execute_result"
    }
   ],
   "source": [
    "RA_in_degrees  = []\n",
    "DEC_in_degrees = []\n",
    "\n",
    "for k in np.arange(0, len(herta_subset['frb'])):\n",
    "    RA_degree = Angle(herta_subset['ra'][k], unit = 'hourangle')   # RA is in  hr:min:sec\n",
    "    DEC_degree = Angle(herta_subset['dec'][k], unit = 'degree')    # DEC is in deg:arcmin:arcsec\n",
    "    RA_in_degrees.append(RA_degree.degree)\n",
    "    DEC_in_degrees.append(DEC_degree.degree)\n",
    "    \n",
    "herta_subset['RA_in_deg'] = RA_in_degrees\n",
    "herta_subset['DEC_in_deg'] = DEC_in_degrees\n",
    "\n",
    "herta_subset.head(1)"
   ]
  },
  {
   "cell_type": "code",
   "execution_count": 9,
   "id": "ac54d899",
   "metadata": {},
   "outputs": [],
   "source": [
    "# This function calculates distance using formula shown below.\n",
    "\n",
    "def distance(ra_frb, ra_grb, dec_frb, dec_grb):\n",
    "    diff_ra = ra_frb - ra_grb\n",
    "    diff_dec = dec_frb - dec_grb\n",
    "    avg_dec = (dec_frb + dec_grb)/2\n",
    "    frb_grb_dist = np.sqrt((diff_ra*np.cos(avg_dec*(np.pi/180)))**2 + diff_dec**2)\n",
    "    return frb_grb_dist"
   ]
  },
  {
   "cell_type": "markdown",
   "id": "3cec8b7b",
   "metadata": {},
   "source": [
    "$$ dist = \\sqrt{ ({\\Delta\\alpha\\cos{\\delta}})^2 + {\\Delta{\\delta}}^2} $$\n",
    "\n",
    "where, \n",
    "\n",
    "<br>$ \\Delta \\alpha = ra_{1} - ra_{2} $\n",
    "<br>$\\Delta \\delta = de_{1} - de_{2} $ \n",
    "<br>$ \\delta = \\frac{de_{1} + de_{2}}{2}$"
   ]
  },
  {
   "cell_type": "code",
   "execution_count": 10,
   "id": "f45b80fc",
   "metadata": {},
   "outputs": [
    {
     "data": {
      "text/plain": [
       "[[0, 760, 2.596752510596917],\n",
       " [1, 291, 2.48303805797005],\n",
       " [2, 167, 3.1081312643501358],\n",
       " [3, 1362, 0.9603655074490652],\n",
       " [4, 1030, 0.932885260827942],\n",
       " [5, 60, 2.83975721994394],\n",
       " [6, 928, 1.637962389137355],\n",
       " [7, 1235, 2.036364428218165],\n",
       " [8, 934, 2.3771608506085227],\n",
       " [9, 787, 4.587342672335706]]"
      ]
     },
     "execution_count": 10,
     "metadata": {},
     "output_type": "execute_result"
    }
   ],
   "source": [
    "dist_s_no = []  # This list will contain serial number as first value, grb index number as second value and \n",
    "                # distance calculated as the third value in the list.\n",
    "    \n",
    "for m in np.arange(0, len(herta_subset['frb'])):\n",
    "    frb_ra = herta_subset['RA_in_deg'][m]\n",
    "    frb_dec = herta_subset['DEC_in_deg'][m]\n",
    "\n",
    "    dist_list = []\n",
    "    for n in np.arange(0, len(df_grb_subset.iloc[:])):\n",
    "        grb_ra = float(df_grb_subset.iloc[n][2])\n",
    "        grb_dec = float(df_grb_subset.iloc[n][3])\n",
    "        \n",
    "        dist = distance(frb_ra, grb_ra, frb_dec, grb_dec)\n",
    "        dist_list.append(dist)\n",
    "        \n",
    "    min_dist_val = min(dist_list)\n",
    "    grb_index = dist_list.index(min_dist_val)\n",
    "    dist_s_no.append([m, grb_index, min_dist_val])\n",
    "    \n",
    "dist_s_no[0:10]  # Just a glimps of distance calculated between frb and grb source"
   ]
  },
  {
   "cell_type": "code",
   "execution_count": null,
   "id": "1a7c1a35",
   "metadata": {},
   "outputs": [],
   "source": []
  },
  {
   "cell_type": "code",
   "execution_count": 11,
   "id": "cf39e249",
   "metadata": {},
   "outputs": [
    {
     "name": "stdout",
     "output_type": "stream",
     "text": [
      "There are 89 pair of frb/grb source at distance less than 1 unit\n"
     ]
    }
   ],
   "source": [
    "dist_less_than_one_group = []  # List of frb/grb pairs at distance less than 1 unit.\n",
    "grb_serial_no = []              # List of grb serial numbers.\n",
    "\n",
    "for num1 in np.arange(0, len(dist_s_no)):\n",
    "    grb_serial_no.append(dist_s_no[num1][1])\n",
    "    if 0<dist_s_no[num1][2]<1:\n",
    "        dist_less_than_one_group.append(dist_s_no[num1])\n",
    "\n",
    "print('There are', len(dist_less_than_one_group), 'pair of frb/grb source at distance less than 1 unit')"
   ]
  },
  {
   "cell_type": "code",
   "execution_count": 12,
   "id": "4116a3b3",
   "metadata": {},
   "outputs": [
    {
     "data": {
      "text/plain": [
       "[[760, 1],\n",
       " [291, 1],\n",
       " [167, 1],\n",
       " [1362, 1],\n",
       " [1030, 1],\n",
       " [60, 1],\n",
       " [928, 1],\n",
       " [1235, 2],\n",
       " [934, 1],\n",
       " [787, 1]]"
      ]
     },
     "execution_count": 12,
     "metadata": {},
     "output_type": "execute_result"
    }
   ],
   "source": [
    "# In this part we are trying to see the frequency of repetition of grb that has distance less than 1 unit with frb.\n",
    "\n",
    "grb_code_no = []\n",
    "grb_freq_val = []\n",
    "\n",
    "for num2 in np.arange(0, len(grb_serial_no)):\n",
    "    serial_no = grb_serial_no[num2]\n",
    "    freq = grb_serial_no.count(serial_no)\n",
    "    if grb_serial_no[num2] not in grb_code_no:\n",
    "        grb_code_no.append(serial_no)\n",
    "        grb_freq_val.append(freq)\n",
    "        \n",
    "        \n",
    "# Now we pair up grb reference serial no and its frequency of pairing up with frb sources. First value in the list\n",
    "# refers to the grb index number in the data list and second number indicates the frequency of repetition.\n",
    "\n",
    "grb_code_freq = []\n",
    "for num3 in np.arange(0, len(grb_code_no)):\n",
    "    grb_code_freq.append([grb_code_no[num3], grb_freq_val[num3]])\n",
    "\n",
    "grb_code_freq[0:10]"
   ]
  },
  {
   "cell_type": "markdown",
   "id": "67a9bc00",
   "metadata": {},
   "source": [
    "### Matching FRB data with GRB data where both events occured with an interval of 1 day."
   ]
  },
  {
   "cell_type": "code",
   "execution_count": 13,
   "id": "6e4fe02c",
   "metadata": {},
   "outputs": [
    {
     "data": {
      "text/html": [
       "<div>\n",
       "<style scoped>\n",
       "    .dataframe tbody tr th:only-of-type {\n",
       "        vertical-align: middle;\n",
       "    }\n",
       "\n",
       "    .dataframe tbody tr th {\n",
       "        vertical-align: top;\n",
       "    }\n",
       "\n",
       "    .dataframe thead th {\n",
       "        text-align: right;\n",
       "    }\n",
       "</style>\n",
       "<table border=\"1\" class=\"dataframe\">\n",
       "  <thead>\n",
       "    <tr style=\"text-align: right;\">\n",
       "      <th></th>\n",
       "      <th>frb</th>\n",
       "      <th>utc</th>\n",
       "      <th>ra</th>\n",
       "      <th>dec</th>\n",
       "      <th>RA_in_deg</th>\n",
       "      <th>DEC_in_deg</th>\n",
       "    </tr>\n",
       "  </thead>\n",
       "  <tbody>\n",
       "    <tr>\n",
       "      <th>805</th>\n",
       "      <td>FRB 20220501C</td>\n",
       "      <td>2022-05-01 2:11:09</td>\n",
       "      <td>23:29:50</td>\n",
       "      <td>-32:27:00</td>\n",
       "      <td>352.458333</td>\n",
       "      <td>-32.45</td>\n",
       "    </tr>\n",
       "  </tbody>\n",
       "</table>\n",
       "</div>"
      ],
      "text/plain": [
       "               frb                 utc        ra        dec   RA_in_deg  \\\n",
       "805  FRB 20220501C  2022-05-01 2:11:09  23:29:50  -32:27:00  352.458333   \n",
       "\n",
       "     DEC_in_deg  \n",
       "805      -32.45  "
      ]
     },
     "execution_count": 13,
     "metadata": {},
     "output_type": "execute_result"
    }
   ],
   "source": [
    "herta_subset.tail(1)"
   ]
  },
  {
   "cell_type": "markdown",
   "id": "620c90c4",
   "metadata": {},
   "source": [
    "You can use this site from NASA as a confirmation check if the date has been converted correctly to Julian date.\n",
    "\n",
    "https://ssd.jpl.nasa.gov/tools/jdc/#/cd"
   ]
  },
  {
   "cell_type": "code",
   "execution_count": 14,
   "id": "2750cd2c",
   "metadata": {},
   "outputs": [
    {
     "name": "stdout",
     "output_type": "stream",
     "text": [
      "1381\n",
      "806\n"
     ]
    }
   ],
   "source": [
    "grb_jd = Time(pd.to_datetime(df_grb_subset.iloc[:,1])).jd  # Triger time of GRB in julian day\n",
    "frb_jd = Time(pd.to_datetime(herta_subset['utc'])).jd      # Time of FRB converted to julian day\n",
    "\n",
    "print(len(grb_jd))\n",
    "print(len(frb_jd))"
   ]
  },
  {
   "cell_type": "code",
   "execution_count": 25,
   "id": "2f0fa645",
   "metadata": {},
   "outputs": [
    {
     "data": {
      "text/plain": [
       "328"
      ]
     },
     "execution_count": 25,
     "metadata": {},
     "output_type": "execute_result"
    }
   ],
   "source": [
    "frb_grb_day_matching = []  # This is an empty list created to store those frb and grb pair number which occured \n",
    "                           # within an interval of 1 day. First number indexes FRB and second indicates GRB.\n",
    "                           # Third number in the group is the interval measured in day.\n",
    "        \n",
    "for n_frb in np.arange(0, len(frb_jd)):\n",
    "    for n_grb in np.arange(0, len(grb_jd)):\n",
    "        if abs(frb_jd[n_frb] - grb_jd[n_grb]) <= 1:\n",
    "            frb_grb_day_matching.append([n_frb, n_grb, abs(frb_jd[n_frb] - grb_jd[n_grb])])\n",
    "\n",
    "\n",
    "len(frb_grb_day_matching)  # Sample from the list created where first number is frb index, second grb index and third\n",
    "                          # number is the time interval between the frb and grb event."
   ]
  },
  {
   "cell_type": "markdown",
   "id": "caa7bdc8",
   "metadata": {},
   "source": [
    "### Matching of those frb and grb data that occured less than 1 day apart and lie at a position less than 1 unit of distance in the sky."
   ]
  },
  {
   "cell_type": "markdown",
   "id": "dac4594b",
   "metadata": {},
   "source": [
    "Now I write a prog that will take frb and grb index from frg_grb_day_matching and calculate the distance between \n",
    "them using the distance function I have already written.\n"
   ]
  },
  {
   "cell_type": "code",
   "execution_count": 36,
   "id": "e8ddbc1f",
   "metadata": {},
   "outputs": [],
   "source": [
    "time_and_position_matched_list = []\n",
    "\n",
    "for ind in np.arange(0, len(frb_grb_day_matching)):\n",
    "    \n",
    "            \n",
    "    frb_row_index = frb_grb_day_matching[ind][0]\n",
    "#     print('FRB index', frb_row_index)\n",
    "    grb_row_index = frb_grb_day_matching[ind][1]\n",
    "#     print('GRB index', grb_row_index)\n",
    "\n",
    "    ra_frb = herta_subset['RA_in_deg'][frb_row_index]\n",
    "#     print('RA for FRB', ra_frb)\n",
    "    dec_frb = herta_subset['DEC_in_deg'][frb_row_index]\n",
    "#     print('DEC for FRB', dec_frb)\n",
    "\n",
    "    ra_grb = float(df_grb_subset.iloc[grb_row_index, 2])\n",
    "#     print('RA for GRB', ra_grb)\n",
    "    dec_grb = float(df_grb_subset.iloc[grb_row_index, 3])\n",
    "#     print('DEC for GRB', dec_grb)\n",
    "\n",
    "    frb_grb_dist = distance(ra_frb, ra_grb, dec_frb, dec_grb)\n",
    "#     print('Distance between frb and grb sources', frb_grb_dist)\n",
    "    \n",
    "    if frb_grb_dist<= 7:\n",
    "        time_and_position_matched_list.append([frb_row_index, grb_row_index])"
   ]
  },
  {
   "cell_type": "code",
   "execution_count": 37,
   "id": "ea002756",
   "metadata": {},
   "outputs": [
    {
     "data": {
      "text/plain": [
       "[[329, 101]]"
      ]
     },
     "execution_count": 37,
     "metadata": {},
     "output_type": "execute_result"
    }
   ],
   "source": [
    "time_and_position_matched_list"
   ]
  },
  {
   "cell_type": "markdown",
   "id": "3a8fceb5",
   "metadata": {},
   "source": [
    "Results:\n",
    "\n",
    "One FRB & GRB event occured within an interval of 2 days and 2 unit distant from each other. These two FRB and\n",
    "GRB event are:\n",
    "\n",
    "<font color = red>FRB 20190131C </font>     &&  <font color = red> GRB190202A </font>\n",
    "\n",
    "\n",
    "\n",
    "Number of FRB and GRB pairs that occurred one day apart and are at less than 1 unit of distance = 0\n",
    "\n",
    "Number of FRB and GRB pairs that occurred one day apart and are at less than 5 unit of distance = 0\n",
    "\n",
    "Number of FRB and GRB pairs that occurred one day apart and are at less than 7 unit of distance = 1\n",
    "\n",
    "These FRB and GRB event are:\n",
    "\n",
    "<font color = red> FRB 20190124A </font>   &&   <font color = red>GRB190123A</font>\n"
   ]
  },
  {
   "cell_type": "code",
   "execution_count": null,
   "id": "e356e23f",
   "metadata": {},
   "outputs": [],
   "source": []
  },
  {
   "cell_type": "code",
   "execution_count": null,
   "id": "d66e2a45",
   "metadata": {
    "scrolled": true
   },
   "outputs": [],
   "source": []
  },
  {
   "cell_type": "code",
   "execution_count": null,
   "id": "0f2aecc7",
   "metadata": {},
   "outputs": [],
   "source": []
  }
 ],
 "metadata": {
  "kernelspec": {
   "display_name": "Python 3 (ipykernel)",
   "language": "python",
   "name": "python3"
  },
  "language_info": {
   "codemirror_mode": {
    "name": "ipython",
    "version": 3
   },
   "file_extension": ".py",
   "mimetype": "text/x-python",
   "name": "python",
   "nbconvert_exporter": "python",
   "pygments_lexer": "ipython3",
   "version": "3.9.12"
  }
 },
 "nbformat": 4,
 "nbformat_minor": 5
}
