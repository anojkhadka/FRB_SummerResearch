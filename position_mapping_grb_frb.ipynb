{
 "cells": [
  {
   "cell_type": "code",
   "execution_count": 1,
   "id": "ce3be8de",
   "metadata": {},
   "outputs": [],
   "source": [
    "import pandas as pd\n",
    "import matplotlib.pyplot as plt\n",
    "import numpy as np\n",
    "from astropy.coordinates import SkyCoord as coord\n",
    "import astropy.units as u"
   ]
  },
  {
   "cell_type": "markdown",
   "id": "7ecbdd44",
   "metadata": {},
   "source": [
    "###  Step 1:  Importing gamma ray burst data"
   ]
  },
  {
   "cell_type": "markdown",
   "id": "6730cee7",
   "metadata": {},
   "source": [
    "Data I have used for gamma ray burst was taken form this site below.\n",
    "\n",
    "https://swift.gsfc.nasa.gov/results/batgrbcat/summary_cflux/summary_general_info/summary_general.txt\n"
   ]
  },
  {
   "cell_type": "code",
   "execution_count": 2,
   "id": "9f977aab",
   "metadata": {},
   "outputs": [
    {
     "data": {
      "text/html": [
       "<div>\n",
       "<style scoped>\n",
       "    .dataframe tbody tr th:only-of-type {\n",
       "        vertical-align: middle;\n",
       "    }\n",
       "\n",
       "    .dataframe tbody tr th {\n",
       "        vertical-align: top;\n",
       "    }\n",
       "\n",
       "    .dataframe thead th {\n",
       "        text-align: right;\n",
       "    }\n",
       "</style>\n",
       "<table border=\"1\" class=\"dataframe\">\n",
       "  <thead>\n",
       "    <tr style=\"text-align: right;\">\n",
       "      <th></th>\n",
       "      <th>GRBname</th>\n",
       "      <th>Trig_ID</th>\n",
       "      <th>Trig_time_met</th>\n",
       "      <th>Trig_time_UTC</th>\n",
       "      <th>RA_ground</th>\n",
       "      <th>DEC_ground</th>\n",
       "      <th>Image_position_err</th>\n",
       "      <th>Image_SNR</th>\n",
       "      <th>T90</th>\n",
       "      <th>T90_err</th>\n",
       "      <th>T50</th>\n",
       "      <th>T50_err</th>\n",
       "      <th>Evt_start_sincetrig</th>\n",
       "      <th>Evt_stop_sincetrig</th>\n",
       "      <th>pcode</th>\n",
       "      <th>Trigger_method</th>\n",
       "      <th>XRT_detection</th>\n",
       "      <th>comment,,,</th>\n",
       "    </tr>\n",
       "  </thead>\n",
       "  <tbody>\n",
       "    <tr>\n",
       "      <th>1390</th>\n",
       "      <td>GRB041217</td>\n",
       "      <td>100116</td>\n",
       "      <td>124961305.236</td>\n",
       "      <td>2004-12-17T07:28:25.236000</td>\n",
       "      <td>1.647929e+02</td>\n",
       "      <td>-1.794047e+01</td>\n",
       "      <td>1.374749e+00</td>\n",
       "      <td>1.930439e+01</td>\n",
       "      <td>5.668000e+00</td>\n",
       "      <td>7.297123e-01</td>\n",
       "      <td>2.700000e+00</td>\n",
       "      <td>2.512051e-01</td>\n",
       "      <td>-2</td>\n",
       "      <td>18</td>\n",
       "      <td>0.2969</td>\n",
       "      <td>rate trigger</td>\n",
       "      <td>No</td>\n",
       "      <td>,,,</td>\n",
       "    </tr>\n",
       "  </tbody>\n",
       "</table>\n",
       "</div>"
      ],
      "text/plain": [
       "           GRBname         Trig_ID    Trig_time_met   \\\n",
       "1390  GRB041217          100116       124961305.236    \n",
       "\n",
       "             Trig_time_UTC            RA_ground       DEC_ground     \\\n",
       "1390   2004-12-17T07:28:25.236000    1.647929e+02    -1.794047e+01    \n",
       "\n",
       "       Image_position_err      Image_SNR         T90           T90_err      \\\n",
       "1390      1.374749e+00       1.930439e+01    5.668000e+00    7.297123e-01    \n",
       "\n",
       "           T50           T50_err      Evt_start_sincetrig   \\\n",
       "1390   2.700000e+00    2.512051e-01             -2           \n",
       "\n",
       "      Evt_stop_sincetrig    pcode    Trigger_method   XRT_detection   \\\n",
       "1390            18          0.2969     rate trigger              No    \n",
       "\n",
       "      comment,,,  \n",
       "1390         ,,,  "
      ]
     },
     "execution_count": 2,
     "metadata": {},
     "output_type": "execute_result"
    }
   ],
   "source": [
    "column_names = ['GRBname', 'RA_ground', 'DEC_ground']\n",
    "df_grb = pd.read_csv('/home/astroguy/frb_summerresearch/grb_data_copy.csv', delimiter='|', header = 0)\n",
    "df_grb.tail(1)"
   ]
  },
  {
   "cell_type": "code",
   "execution_count": 7,
   "id": "fb6a994f",
   "metadata": {},
   "outputs": [
    {
     "data": {
      "text/html": [
       "<div>\n",
       "<style scoped>\n",
       "    .dataframe tbody tr th:only-of-type {\n",
       "        vertical-align: middle;\n",
       "    }\n",
       "\n",
       "    .dataframe tbody tr th {\n",
       "        vertical-align: top;\n",
       "    }\n",
       "\n",
       "    .dataframe thead th {\n",
       "        text-align: right;\n",
       "    }\n",
       "</style>\n",
       "<table border=\"1\" class=\"dataframe\">\n",
       "  <thead>\n",
       "    <tr style=\"text-align: right;\">\n",
       "      <th></th>\n",
       "      <th>GRBname</th>\n",
       "      <th>RA_ground</th>\n",
       "      <th>DEC_ground</th>\n",
       "    </tr>\n",
       "  </thead>\n",
       "  <tbody>\n",
       "    <tr>\n",
       "      <th>0</th>\n",
       "      <td>GRB200829A</td>\n",
       "      <td>2.511393e+02</td>\n",
       "      <td>7.236396e+01</td>\n",
       "    </tr>\n",
       "  </tbody>\n",
       "</table>\n",
       "</div>"
      ],
      "text/plain": [
       "        GRBname     RA_ground       DEC_ground   \n",
       "0  GRB200829A      2.511393e+02     7.236396e+01 "
      ]
     },
     "execution_count": 7,
     "metadata": {},
     "output_type": "execute_result"
    }
   ],
   "source": [
    "df_grb_subset = df_grb.iloc[:,[0,4,5]]\n",
    "df_grb_subset.head(1)"
   ]
  },
  {
   "cell_type": "markdown",
   "id": "de21e32b",
   "metadata": {},
   "source": [
    "###  Step 2: Importing fast radio burst data"
   ]
  },
  {
   "cell_type": "code",
   "execution_count": 8,
   "id": "9fb611fa",
   "metadata": {},
   "outputs": [
    {
     "data": {
      "text/html": [
       "<div>\n",
       "<style scoped>\n",
       "    .dataframe tbody tr th:only-of-type {\n",
       "        vertical-align: middle;\n",
       "    }\n",
       "\n",
       "    .dataframe tbody tr th {\n",
       "        vertical-align: top;\n",
       "    }\n",
       "\n",
       "    .dataframe thead th {\n",
       "        text-align: right;\n",
       "    }\n",
       "</style>\n",
       "<table border=\"1\" class=\"dataframe\">\n",
       "  <thead>\n",
       "    <tr style=\"text-align: right;\">\n",
       "      <th></th>\n",
       "      <th>frb</th>\n",
       "      <th>ra</th>\n",
       "      <th>dec</th>\n",
       "      <th>l</th>\n",
       "      <th>b</th>\n",
       "      <th>dm</th>\n",
       "      <th>flux</th>\n",
       "      <th>width</th>\n",
       "      <th>fluence</th>\n",
       "      <th>redshift</th>\n",
       "    </tr>\n",
       "  </thead>\n",
       "  <tbody>\n",
       "    <tr>\n",
       "      <th>0</th>\n",
       "      <td>FRB 20010125A</td>\n",
       "      <td>19:06:53</td>\n",
       "      <td>-40:37:14</td>\n",
       "      <td>356.64</td>\n",
       "      <td>-20.02</td>\n",
       "      <td>790.3</td>\n",
       "      <td>0.54</td>\n",
       "      <td>0</td>\n",
       "      <td>0</td>\n",
       "      <td>0.7083</td>\n",
       "    </tr>\n",
       "  </tbody>\n",
       "</table>\n",
       "</div>"
      ],
      "text/plain": [
       "             frb        ra        dec       l      b     dm  flux width  \\\n",
       "0  FRB 20010125A  19:06:53  -40:37:14  356.64 -20.02  790.3  0.54     0   \n",
       "\n",
       "  fluence redshift  \n",
       "0       0   0.7083  "
      ]
     },
     "execution_count": 8,
     "metadata": {},
     "output_type": "execute_result"
    }
   ],
   "source": [
    "columns = ['ra', 'dec', 'dm', 'flux', 'redshift', 'frb', 'l', 'b', 'width', 'fluence']\n",
    "herta_df = pd.read_csv('herta_frb_catalogue.csv', usecols=columns).replace('-', '0')\n",
    "herta_df.head(1)"
   ]
  },
  {
   "cell_type": "code",
   "execution_count": 9,
   "id": "63c7e024",
   "metadata": {},
   "outputs": [
    {
     "data": {
      "text/html": [
       "<div>\n",
       "<style scoped>\n",
       "    .dataframe tbody tr th:only-of-type {\n",
       "        vertical-align: middle;\n",
       "    }\n",
       "\n",
       "    .dataframe tbody tr th {\n",
       "        vertical-align: top;\n",
       "    }\n",
       "\n",
       "    .dataframe thead th {\n",
       "        text-align: right;\n",
       "    }\n",
       "</style>\n",
       "<table border=\"1\" class=\"dataframe\">\n",
       "  <thead>\n",
       "    <tr style=\"text-align: right;\">\n",
       "      <th></th>\n",
       "      <th>frb</th>\n",
       "      <th>ra</th>\n",
       "      <th>dec</th>\n",
       "    </tr>\n",
       "  </thead>\n",
       "  <tbody>\n",
       "    <tr>\n",
       "      <th>0</th>\n",
       "      <td>FRB 20010125A</td>\n",
       "      <td>19:06:53</td>\n",
       "      <td>-40:37:14</td>\n",
       "    </tr>\n",
       "  </tbody>\n",
       "</table>\n",
       "</div>"
      ],
      "text/plain": [
       "             frb        ra        dec\n",
       "0  FRB 20010125A  19:06:53  -40:37:14"
      ]
     },
     "execution_count": 9,
     "metadata": {},
     "output_type": "execute_result"
    }
   ],
   "source": [
    "herta_subset = herta_df.iloc[:, [0, 1,2]]\n",
    "herta_subset.head(1)"
   ]
  },
  {
   "cell_type": "code",
   "execution_count": 13,
   "id": "1ab2e26b",
   "metadata": {},
   "outputs": [],
   "source": [
    "def nearest_distance(frb_ra, frb_dec, grb_ra, grb_dec):\n",
    "    ra_diff = frb_ra - grb_ra\n",
    "    dec_diff = frb_dec - grb_dec\n",
    "    dec_avg = (grb_dec + frb_dec)/2\n",
    "    dist = np.sqrt((ra_diff*np.cos(dec_avg*(np.pi/180)))**2 + (dec_diff)**2)\n",
    "    "
   ]
  },
  {
   "cell_type": "code",
   "execution_count": 20,
   "id": "cc502af0",
   "metadata": {},
   "outputs": [
    {
     "data": {
      "text/plain": [
       "0.8660254037844387"
      ]
     },
     "execution_count": 20,
     "metadata": {},
     "output_type": "execute_result"
    }
   ],
   "source": [
    "np.cos(30*(np.pi/180))"
   ]
  },
  {
   "cell_type": "code",
   "execution_count": 21,
   "id": "71cb81c5",
   "metadata": {},
   "outputs": [
    {
     "data": {
      "text/plain": [
       "0.8660254037844386"
      ]
     },
     "execution_count": 21,
     "metadata": {},
     "output_type": "execute_result"
    }
   ],
   "source": [
    "np.sqrt(3)/2"
   ]
  },
  {
   "cell_type": "code",
   "execution_count": 12,
   "id": "3ad5ef08",
   "metadata": {},
   "outputs": [
    {
     "name": "stdout",
     "output_type": "stream",
     "text": [
      "1391\n"
     ]
    },
    {
     "ename": "TypeError",
     "evalue": "len() takes exactly one argument (0 given)",
     "output_type": "error",
     "traceback": [
      "\u001b[0;31m---------------------------------------------------------------------------\u001b[0m",
      "\u001b[0;31mTypeError\u001b[0m                                 Traceback (most recent call last)",
      "Input \u001b[0;32mIn [12]\u001b[0m, in \u001b[0;36m<cell line: 4>\u001b[0;34m()\u001b[0m\n\u001b[1;32m      2\u001b[0m data_length \u001b[38;5;241m=\u001b[39m \u001b[38;5;28mlen\u001b[39m(df_grb_subset\u001b[38;5;241m.\u001b[39miloc[:,\u001b[38;5;241m0\u001b[39m]\u001b[38;5;241m.\u001b[39mvalues)\n\u001b[1;32m      3\u001b[0m \u001b[38;5;28mprint\u001b[39m(data_length)\n\u001b[0;32m----> 4\u001b[0m \u001b[38;5;28;01mwhile\u001b[39;00m k \u001b[38;5;241m<\u001b[39m\u001b[38;5;241m=\u001b[39m \u001b[38;5;28;43mlen\u001b[39;49m\u001b[43m(\u001b[49m\u001b[43m)\u001b[49m:\n\u001b[1;32m      5\u001b[0m     \u001b[38;5;28mprint\u001b[39m(k)\n\u001b[1;32m      6\u001b[0m     k \u001b[38;5;241m+\u001b[39m\u001b[38;5;241m=\u001b[39m\u001b[38;5;241m1\u001b[39m\n",
      "\u001b[0;31mTypeError\u001b[0m: len() takes exactly one argument (0 given)"
     ]
    }
   ],
   "source": [
    "k = 0\n",
    "data_length = len(df_grb_subset.iloc[:,0].values)\n",
    "print(data_length)\n",
    "while k <= data_length:\n",
    "    \n",
    "    print(k)\n",
    "    k +=1"
   ]
  },
  {
   "cell_type": "code",
   "execution_count": null,
   "id": "0e8a0d2f",
   "metadata": {},
   "outputs": [],
   "source": []
  }
 ],
 "metadata": {
  "kernelspec": {
   "display_name": "Python 3 (ipykernel)",
   "language": "python",
   "name": "python3"
  },
  "language_info": {
   "codemirror_mode": {
    "name": "ipython",
    "version": 3
   },
   "file_extension": ".py",
   "mimetype": "text/x-python",
   "name": "python",
   "nbconvert_exporter": "python",
   "pygments_lexer": "ipython3",
   "version": "3.9.12"
  }
 },
 "nbformat": 4,
 "nbformat_minor": 5
}
