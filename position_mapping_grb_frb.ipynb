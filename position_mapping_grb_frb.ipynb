{
 "cells": [
  {
   "cell_type": "code",
   "execution_count": 1,
   "id": "ce3be8de",
   "metadata": {},
   "outputs": [],
   "source": [
    "import pandas as pd\n",
    "import matplotlib.pyplot as plt\n",
    "import numpy as np\n",
    "from astropy.coordinates import SkyCoord as coord\n",
    "import astropy.units as u\n",
    "from astropy.coordinates import Angle\n",
    "import warnings\n",
    "warnings.filterwarnings('ignore')"
   ]
  },
  {
   "cell_type": "markdown",
   "id": "7ecbdd44",
   "metadata": {},
   "source": [
    "###  Step 1:  Importing gamma ray burst data"
   ]
  },
  {
   "cell_type": "markdown",
   "id": "6730cee7",
   "metadata": {},
   "source": [
    "<font color = 'purple'>Data I have used for gamma ray burst was taken form this site below.</font>\n",
    "\n",
    "https://swift.gsfc.nasa.gov/results/batgrbcat/summary_cflux/summary_general_info/summary_general.txt\n"
   ]
  },
  {
   "cell_type": "code",
   "execution_count": 2,
   "id": "9f977aab",
   "metadata": {},
   "outputs": [
    {
     "data": {
      "text/html": [
       "<div>\n",
       "<style scoped>\n",
       "    .dataframe tbody tr th:only-of-type {\n",
       "        vertical-align: middle;\n",
       "    }\n",
       "\n",
       "    .dataframe tbody tr th {\n",
       "        vertical-align: top;\n",
       "    }\n",
       "\n",
       "    .dataframe thead th {\n",
       "        text-align: right;\n",
       "    }\n",
       "</style>\n",
       "<table border=\"1\" class=\"dataframe\">\n",
       "  <thead>\n",
       "    <tr style=\"text-align: right;\">\n",
       "      <th></th>\n",
       "      <th>GRBname</th>\n",
       "      <th>Trig_ID</th>\n",
       "      <th>Trig_time_met</th>\n",
       "      <th>Trig_time_UTC</th>\n",
       "      <th>RA_ground</th>\n",
       "      <th>DEC_ground</th>\n",
       "      <th>Image_position_err</th>\n",
       "      <th>Image_SNR</th>\n",
       "      <th>T90</th>\n",
       "      <th>T90_err</th>\n",
       "      <th>T50</th>\n",
       "      <th>T50_err</th>\n",
       "      <th>Evt_start_sincetrig</th>\n",
       "      <th>Evt_stop_sincetrig</th>\n",
       "      <th>pcode</th>\n",
       "      <th>Trigger_method</th>\n",
       "      <th>XRT_detection</th>\n",
       "      <th>comment,,,</th>\n",
       "    </tr>\n",
       "  </thead>\n",
       "  <tbody>\n",
       "    <tr>\n",
       "      <th>1390</th>\n",
       "      <td>GRB041217</td>\n",
       "      <td>100116</td>\n",
       "      <td>124961305.236</td>\n",
       "      <td>2004-12-17T07:28:25.236000</td>\n",
       "      <td>1.647929e+02</td>\n",
       "      <td>-1.794047e+01</td>\n",
       "      <td>1.374749e+00</td>\n",
       "      <td>1.930439e+01</td>\n",
       "      <td>5.668000e+00</td>\n",
       "      <td>7.297123e-01</td>\n",
       "      <td>2.700000e+00</td>\n",
       "      <td>2.512051e-01</td>\n",
       "      <td>-2</td>\n",
       "      <td>18</td>\n",
       "      <td>0.2969</td>\n",
       "      <td>rate trigger</td>\n",
       "      <td>No</td>\n",
       "      <td>,,,</td>\n",
       "    </tr>\n",
       "  </tbody>\n",
       "</table>\n",
       "</div>"
      ],
      "text/plain": [
       "           GRBname         Trig_ID    Trig_time_met   \\\n",
       "1390  GRB041217          100116       124961305.236    \n",
       "\n",
       "             Trig_time_UTC            RA_ground       DEC_ground     \\\n",
       "1390   2004-12-17T07:28:25.236000    1.647929e+02    -1.794047e+01    \n",
       "\n",
       "       Image_position_err      Image_SNR         T90           T90_err      \\\n",
       "1390      1.374749e+00       1.930439e+01    5.668000e+00    7.297123e-01    \n",
       "\n",
       "           T50           T50_err      Evt_start_sincetrig   \\\n",
       "1390   2.700000e+00    2.512051e-01             -2           \n",
       "\n",
       "      Evt_stop_sincetrig    pcode    Trigger_method   XRT_detection   \\\n",
       "1390            18          0.2969     rate trigger              No    \n",
       "\n",
       "      comment,,,  \n",
       "1390         ,,,  "
      ]
     },
     "execution_count": 2,
     "metadata": {},
     "output_type": "execute_result"
    }
   ],
   "source": [
    "column_names = ['GRBname', 'RA_ground', 'DEC_ground']\n",
    "df_grb = pd.read_csv('/home/astroguy/frb_summerresearch/grb_data_copy.csv', delimiter='|', header = 0)\n",
    "df_grb.tail(1)"
   ]
  },
  {
   "cell_type": "markdown",
   "id": "b1e3f806",
   "metadata": {},
   "source": [
    "<font color = 'purple'>Note:  According to the description in the catalog RA_ground and DEC_ground both has been measured in the unit of degree.</font> "
   ]
  },
  {
   "cell_type": "code",
   "execution_count": 6,
   "id": "fb6a994f",
   "metadata": {},
   "outputs": [
    {
     "name": "stdout",
     "output_type": "stream",
     "text": [
      "(1391, 3)\n"
     ]
    },
    {
     "data": {
      "text/html": [
       "<div>\n",
       "<style scoped>\n",
       "    .dataframe tbody tr th:only-of-type {\n",
       "        vertical-align: middle;\n",
       "    }\n",
       "\n",
       "    .dataframe tbody tr th {\n",
       "        vertical-align: top;\n",
       "    }\n",
       "\n",
       "    .dataframe thead th {\n",
       "        text-align: right;\n",
       "    }\n",
       "</style>\n",
       "<table border=\"1\" class=\"dataframe\">\n",
       "  <thead>\n",
       "    <tr style=\"text-align: right;\">\n",
       "      <th></th>\n",
       "      <th>GRBname</th>\n",
       "      <th>RA_ground</th>\n",
       "      <th>DEC_ground</th>\n",
       "    </tr>\n",
       "  </thead>\n",
       "  <tbody>\n",
       "    <tr>\n",
       "      <th>1389</th>\n",
       "      <td>GRB041219A</td>\n",
       "      <td>N/A</td>\n",
       "      <td>N/A</td>\n",
       "    </tr>\n",
       "    <tr>\n",
       "      <th>1390</th>\n",
       "      <td>GRB041217</td>\n",
       "      <td>1.647929e+02</td>\n",
       "      <td>-1.794047e+01</td>\n",
       "    </tr>\n",
       "  </tbody>\n",
       "</table>\n",
       "</div>"
      ],
      "text/plain": [
       "           GRBname     RA_ground       DEC_ground   \n",
       "1389  GRB041219A               N/A              N/A \n",
       "1390  GRB041217       1.647929e+02    -1.794047e+01 "
      ]
     },
     "execution_count": 6,
     "metadata": {},
     "output_type": "execute_result"
    }
   ],
   "source": [
    "# Taking only necessary subset of the whold data from the catalog\n",
    "\n",
    "df_grb_subset = df_grb.iloc[:,[0,4,5]]\n",
    "print(df_grb_subset.shape)\n",
    "df_grb_subset.tail(2)"
   ]
  },
  {
   "cell_type": "code",
   "execution_count": 8,
   "id": "fce929b9",
   "metadata": {},
   "outputs": [
    {
     "data": {
      "text/plain": [
       "[]"
      ]
     },
     "execution_count": 8,
     "metadata": {},
     "output_type": "execute_result"
    }
   ],
   "source": [
    "# Since some data are missing we want to get rid of those rows. Using for loop to pick the rows with no data.\n",
    "\n",
    "\n",
    "empty_row_num = []\n",
    "for num in np.arange(0, len(df_grb_subset.iloc[:])):\n",
    "    if df_grb_subset.iloc[num, 1] == ' N/A ' or df_grb_subset.iloc[num, 2] == ' N/A ':\n",
    "        empty_row.append(num)\n",
    "\n",
    "empty_row_num"
   ]
  },
  {
   "cell_type": "code",
   "execution_count": 12,
   "id": "fc62575e",
   "metadata": {},
   "outputs": [
    {
     "name": "stdout",
     "output_type": "stream",
     "text": [
      "(1381, 3)\n"
     ]
    }
   ],
   "source": [
    "# Using drop function to drop all the rows with no data. Ten rows with no data have been removed.\n",
    "\n",
    "df_grb_subset.drop(empty_row_num, axis = 0, inplace = True)\n",
    "print(df_grb_subset.shape)"
   ]
  },
  {
   "cell_type": "markdown",
   "id": "de21e32b",
   "metadata": {},
   "source": [
    "###  Step 2: Working with fast radio burst data"
   ]
  },
  {
   "cell_type": "markdown",
   "id": "7de6676a",
   "metadata": {},
   "source": [
    "<font color = 'purple'>Data taken from link below</font>\n",
    "\n",
    "https://www.herta-experiment.org/frbstats/catalogue"
   ]
  },
  {
   "cell_type": "code",
   "execution_count": 13,
   "id": "9fb611fa",
   "metadata": {},
   "outputs": [
    {
     "data": {
      "text/html": [
       "<div>\n",
       "<style scoped>\n",
       "    .dataframe tbody tr th:only-of-type {\n",
       "        vertical-align: middle;\n",
       "    }\n",
       "\n",
       "    .dataframe tbody tr th {\n",
       "        vertical-align: top;\n",
       "    }\n",
       "\n",
       "    .dataframe thead th {\n",
       "        text-align: right;\n",
       "    }\n",
       "</style>\n",
       "<table border=\"1\" class=\"dataframe\">\n",
       "  <thead>\n",
       "    <tr style=\"text-align: right;\">\n",
       "      <th></th>\n",
       "      <th>frb</th>\n",
       "      <th>ra</th>\n",
       "      <th>dec</th>\n",
       "      <th>l</th>\n",
       "      <th>b</th>\n",
       "      <th>dm</th>\n",
       "      <th>flux</th>\n",
       "      <th>width</th>\n",
       "      <th>fluence</th>\n",
       "      <th>redshift</th>\n",
       "    </tr>\n",
       "  </thead>\n",
       "  <tbody>\n",
       "    <tr>\n",
       "      <th>0</th>\n",
       "      <td>FRB 20010125A</td>\n",
       "      <td>19:06:53</td>\n",
       "      <td>-40:37:14</td>\n",
       "      <td>356.64</td>\n",
       "      <td>-20.02</td>\n",
       "      <td>790.3</td>\n",
       "      <td>0.54</td>\n",
       "      <td>0</td>\n",
       "      <td>0</td>\n",
       "      <td>0.7083</td>\n",
       "    </tr>\n",
       "  </tbody>\n",
       "</table>\n",
       "</div>"
      ],
      "text/plain": [
       "             frb        ra        dec       l      b     dm  flux width  \\\n",
       "0  FRB 20010125A  19:06:53  -40:37:14  356.64 -20.02  790.3  0.54     0   \n",
       "\n",
       "  fluence redshift  \n",
       "0       0   0.7083  "
      ]
     },
     "execution_count": 13,
     "metadata": {},
     "output_type": "execute_result"
    }
   ],
   "source": [
    "columns = ['ra', 'dec', 'dm', 'flux', 'redshift', 'frb', 'l', 'b', 'width', 'fluence']\n",
    "df_herta = pd.read_csv('herta_frb_catalogue.csv', usecols=columns).replace('-', '0')\n",
    "df_herta.head(1)"
   ]
  },
  {
   "cell_type": "markdown",
   "id": "4222f397",
   "metadata": {},
   "source": [
    "<font color = 'purple'>Unit of RA in the catalog is hour:min:sec and that of declination is in deg:arcmin:arcsec</font>"
   ]
  },
  {
   "cell_type": "code",
   "execution_count": 14,
   "id": "63c7e024",
   "metadata": {},
   "outputs": [
    {
     "data": {
      "text/html": [
       "<div>\n",
       "<style scoped>\n",
       "    .dataframe tbody tr th:only-of-type {\n",
       "        vertical-align: middle;\n",
       "    }\n",
       "\n",
       "    .dataframe tbody tr th {\n",
       "        vertical-align: top;\n",
       "    }\n",
       "\n",
       "    .dataframe thead th {\n",
       "        text-align: right;\n",
       "    }\n",
       "</style>\n",
       "<table border=\"1\" class=\"dataframe\">\n",
       "  <thead>\n",
       "    <tr style=\"text-align: right;\">\n",
       "      <th></th>\n",
       "      <th>frb</th>\n",
       "      <th>ra</th>\n",
       "      <th>dec</th>\n",
       "    </tr>\n",
       "  </thead>\n",
       "  <tbody>\n",
       "    <tr>\n",
       "      <th>0</th>\n",
       "      <td>FRB 20010125A</td>\n",
       "      <td>19:06:53</td>\n",
       "      <td>-40:37:14</td>\n",
       "    </tr>\n",
       "  </tbody>\n",
       "</table>\n",
       "</div>"
      ],
      "text/plain": [
       "             frb        ra        dec\n",
       "0  FRB 20010125A  19:06:53  -40:37:14"
      ]
     },
     "execution_count": 14,
     "metadata": {},
     "output_type": "execute_result"
    }
   ],
   "source": [
    "herta_subset = df_herta.iloc[:, [0, 1,2]]\n",
    "herta_subset.head(1)"
   ]
  },
  {
   "cell_type": "markdown",
   "id": "c7d22886",
   "metadata": {},
   "source": [
    "<font color = 'purple'>We convert RA and DEC to the unit of degree to make it uniform with the unit of RA and DEC in GRB data. We use astropy library to convert coordinates to degress. </font>\n",
    "\n",
    "Reference:  https://docs.astropy.org/en/stable/coordinates/angles.html\n",
    "\n",
    "<font color = 'purple'>This site maintained by penstate can be used as checker to see if our conversion has been done correctly.</font>\n",
    "\n",
    "https://www.swift.psu.edu/secure/toop/convert.htm"
   ]
  },
  {
   "cell_type": "code",
   "execution_count": 15,
   "id": "69a926eb",
   "metadata": {},
   "outputs": [
    {
     "data": {
      "text/html": [
       "<div>\n",
       "<style scoped>\n",
       "    .dataframe tbody tr th:only-of-type {\n",
       "        vertical-align: middle;\n",
       "    }\n",
       "\n",
       "    .dataframe tbody tr th {\n",
       "        vertical-align: top;\n",
       "    }\n",
       "\n",
       "    .dataframe thead th {\n",
       "        text-align: right;\n",
       "    }\n",
       "</style>\n",
       "<table border=\"1\" class=\"dataframe\">\n",
       "  <thead>\n",
       "    <tr style=\"text-align: right;\">\n",
       "      <th></th>\n",
       "      <th>frb</th>\n",
       "      <th>ra</th>\n",
       "      <th>dec</th>\n",
       "      <th>RA_in_deg</th>\n",
       "      <th>DEC_in_deg</th>\n",
       "    </tr>\n",
       "  </thead>\n",
       "  <tbody>\n",
       "    <tr>\n",
       "      <th>0</th>\n",
       "      <td>FRB 20010125A</td>\n",
       "      <td>19:06:53</td>\n",
       "      <td>-40:37:14</td>\n",
       "      <td>286.720833</td>\n",
       "      <td>-40.620556</td>\n",
       "    </tr>\n",
       "  </tbody>\n",
       "</table>\n",
       "</div>"
      ],
      "text/plain": [
       "             frb        ra        dec   RA_in_deg  DEC_in_deg\n",
       "0  FRB 20010125A  19:06:53  -40:37:14  286.720833  -40.620556"
      ]
     },
     "execution_count": 15,
     "metadata": {},
     "output_type": "execute_result"
    }
   ],
   "source": [
    "RA_in_degrees  = []\n",
    "DEC_in_degrees = []\n",
    "\n",
    "for k in np.arange(0, len(herta_subset['frb'])):\n",
    "    RA_degree = Angle(herta_subset['ra'][k], unit = 'hourangle')   # RA is in  hr:min:sec\n",
    "    DEC_degree = Angle(herta_subset['dec'][k], unit = 'degree')    # DEC is in deg:arcmin:arcsec\n",
    "    RA_in_degrees.append(RA_degree.degree)\n",
    "    DEC_in_degrees.append(DEC_degree.degree)\n",
    "    \n",
    "herta_subset['RA_in_deg'] = RA_in_degrees\n",
    "herta_subset['DEC_in_deg'] = DEC_in_degrees\n",
    "\n",
    "herta_subset.head(1)"
   ]
  },
  {
   "cell_type": "code",
   "execution_count": 19,
   "id": "ac54d899",
   "metadata": {},
   "outputs": [],
   "source": [
    "# This function calculates distance using formula shown below.\n",
    "\n",
    "def distance(ra_frb, ra_grb, dec_frb, dec_grb):\n",
    "    diff_ra = ra_frb - ra_grb\n",
    "    diff_dec = dec_frb - dec_grb\n",
    "    avg_dec = (dec_frb + dec_grb)/2\n",
    "    frb_grb_dist = np.sqrt((diff_ra*np.cos(avg_dec*(np.pi/180)))**2 + diff_dec**2)\n",
    "    return frb_grb_dist"
   ]
  },
  {
   "cell_type": "markdown",
   "id": "3cec8b7b",
   "metadata": {},
   "source": [
    "$$ dist = \\sqrt{ ({\\Delta\\alpha\\cos{\\delta}})^2 + {\\Delta{\\delta}}^2} $$\n",
    "\n",
    "where, \n",
    "\n",
    "<br>$ \\Delta \\alpha = ra_{1} - ra_{2} $\n",
    "<br>$\\Delta \\delta = de_{1} - de_{2} $ \n",
    "<br>$ \\delta = \\frac{de_{1} + de_{2}}{2}$"
   ]
  },
  {
   "cell_type": "code",
   "execution_count": 17,
   "id": "f45b80fc",
   "metadata": {},
   "outputs": [],
   "source": [
    "dist_s_no = []\n",
    "for m in np.arange(0, len(herta_subset['frb'])):\n",
    "    frb_ra = herta_subset['RA_in_deg'][m]\n",
    "    frb_dec = herta_subset['DEC_in_deg'][m]\n",
    "\n",
    "    dist_list = []\n",
    "    for n in np.arange(0, len(df_grb_subset.iloc[:])):\n",
    "        grb_ra = float(df_grb_subset.iloc[n][1])\n",
    "        grb_dec = float(df_grb_subset.iloc[n][2])\n",
    "        \n",
    "        dist = distance(frb_ra, grb_ra, frb_dec, grb_dec)\n",
    "        dist_list.append(dist)\n",
    "        \n",
    "    min_dist_val = min(dist_list)\n",
    "    grb_index = dist_list.index(min_dist_val)\n",
    "    dist_s_no.append([m, grb_index, min_dist_val])\n",
    "    \n"
   ]
  },
  {
   "cell_type": "code",
   "execution_count": null,
   "id": "1a7c1a35",
   "metadata": {},
   "outputs": [],
   "source": []
  },
  {
   "cell_type": "code",
   "execution_count": null,
   "id": "cf39e249",
   "metadata": {},
   "outputs": [],
   "source": []
  }
 ],
 "metadata": {
  "kernelspec": {
   "display_name": "Python 3 (ipykernel)",
   "language": "python",
   "name": "python3"
  },
  "language_info": {
   "codemirror_mode": {
    "name": "ipython",
    "version": 3
   },
   "file_extension": ".py",
   "mimetype": "text/x-python",
   "name": "python",
   "nbconvert_exporter": "python",
   "pygments_lexer": "ipython3",
   "version": "3.9.12"
  }
 },
 "nbformat": 4,
 "nbformat_minor": 5
}
