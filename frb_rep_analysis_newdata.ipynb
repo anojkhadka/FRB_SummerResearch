{
 "cells": [
  {
   "cell_type": "code",
   "execution_count": 1,
   "id": "ee8e47dd",
   "metadata": {},
   "outputs": [],
   "source": [
    "import pandas as pd\n",
    "import matplotlib.pyplot as plt\n",
    "import numpy as np\n",
    "from scipy.stats import anderson, shapiro\n",
    "import statsmodels.api as sm\n",
    "from astropy.coordinates import SkyCoord as coord\n",
    "import astropy.units as u"
   ]
  },
  {
   "cell_type": "markdown",
   "id": "cd5f3c3a",
   "metadata": {},
   "source": [
    "Data source: https://www.herta-experiment.org/frbstats/"
   ]
  },
  {
   "cell_type": "markdown",
   "id": "778ace4c",
   "metadata": {},
   "source": [
    "### Structure of data in the catalogue"
   ]
  },
  {
   "cell_type": "code",
   "execution_count": 2,
   "id": "6155758c",
   "metadata": {},
   "outputs": [
    {
     "name": "stdout",
     "output_type": "stream",
     "text": [
      "There are 806 FRBs in the catalouge\n"
     ]
    },
    {
     "data": {
      "text/html": [
       "<div>\n",
       "<style scoped>\n",
       "    .dataframe tbody tr th:only-of-type {\n",
       "        vertical-align: middle;\n",
       "    }\n",
       "\n",
       "    .dataframe tbody tr th {\n",
       "        vertical-align: top;\n",
       "    }\n",
       "\n",
       "    .dataframe thead th {\n",
       "        text-align: right;\n",
       "    }\n",
       "</style>\n",
       "<table border=\"1\" class=\"dataframe\">\n",
       "  <thead>\n",
       "    <tr style=\"text-align: right;\">\n",
       "      <th></th>\n",
       "      <th>frb</th>\n",
       "      <th>utc</th>\n",
       "      <th>mjd</th>\n",
       "      <th>telescope</th>\n",
       "      <th>ra</th>\n",
       "      <th>dec</th>\n",
       "      <th>l</th>\n",
       "      <th>b</th>\n",
       "      <th>frequency</th>\n",
       "      <th>dm</th>\n",
       "      <th>flux</th>\n",
       "      <th>width</th>\n",
       "      <th>fluence</th>\n",
       "      <th>redshift</th>\n",
       "    </tr>\n",
       "  </thead>\n",
       "  <tbody>\n",
       "    <tr>\n",
       "      <th>0</th>\n",
       "      <td>FRB 20010125A</td>\n",
       "      <td>2001-01-25 0:29:16</td>\n",
       "      <td>51934.02032</td>\n",
       "      <td>Parkes</td>\n",
       "      <td>19:06:53</td>\n",
       "      <td>-40:37:14</td>\n",
       "      <td>356.64</td>\n",
       "      <td>-20.02</td>\n",
       "      <td>-</td>\n",
       "      <td>790.3</td>\n",
       "      <td>0.54</td>\n",
       "      <td>-</td>\n",
       "      <td>-</td>\n",
       "      <td>0.7083</td>\n",
       "    </tr>\n",
       "  </tbody>\n",
       "</table>\n",
       "</div>"
      ],
      "text/plain": [
       "             frb                 utc          mjd telescope        ra  \\\n",
       "0  FRB 20010125A  2001-01-25 0:29:16  51934.02032    Parkes  19:06:53   \n",
       "\n",
       "         dec       l      b frequency     dm  flux width fluence redshift  \n",
       "0  -40:37:14  356.64 -20.02         -  790.3  0.54     -       -   0.7083  "
      ]
     },
     "execution_count": 2,
     "metadata": {},
     "output_type": "execute_result"
    }
   ],
   "source": [
    "df_frb = pd.read_csv('/home/astroguy/Desktop/Research/herta_frb_catalogue.csv', delimiter = ',', usecols = ['frb', 'utc', 'mjd', 'telescope', 'ra', 'dec', 'l', 'b', 'frequency','dm', 'flux', 'width', 'fluence',  'redshift'])\n",
    "print('There are', len(df_frb), 'FRBs in the catalouge')\n",
    "\n",
    "df_frb.head(1)"
   ]
  },
  {
   "cell_type": "markdown",
   "id": "c6fdd1cc",
   "metadata": {},
   "source": [
    "<font color = green>####################### ROW_INDEX_IDENTIFIER_FUNCTION   #############################</font>\n",
    "\n",
    "This code snippet will be useful to find the row number by putting the FRB name from the catalogue. Why do I need this? This will be handy to extract all the available information for any given FRB if know its name."
   ]
  },
  {
   "cell_type": "code",
   "execution_count": 3,
   "id": "465be7fb",
   "metadata": {},
   "outputs": [
    {
     "name": "stdout",
     "output_type": "stream",
     "text": [
      "4\n"
     ]
    }
   ],
   "source": [
    "def frb_index(name):\n",
    "    \n",
    "    for n in np.arange(0, len(df_frb['frb'])):\n",
    "        if df_frb.loc[n, 'frb'] == name:\n",
    "            index_no = n\n",
    "            print(index_no)\n",
    "        else:\n",
    "            continue\n",
    "\n",
    "        \n",
    "    df_frb.loc[index_no]\n",
    "\n",
    "frb_index('FRB 20010724A')         # I can pick the row index of 'FRB 20190608A' using above function."
   ]
  },
  {
   "cell_type": "markdown",
   "id": "94351b21",
   "metadata": {},
   "source": [
    "<font color = green>###############################################################################</font>"
   ]
  },
  {
   "cell_type": "markdown",
   "id": "e9239f6b",
   "metadata": {},
   "source": [
    "### Segregating repeating FRBs from the catalouge"
   ]
  },
  {
   "cell_type": "code",
   "execution_count": 5,
   "id": "92f80e39",
   "metadata": {},
   "outputs": [
    {
     "name": "stdout",
     "output_type": "stream",
     "text": [
      "There are 25 repeating FRBs in the catalogue \n",
      "\n",
      "Only 20 repeating FRBs have values for pulse wdith.\n"
     ]
    }
   ],
   "source": [
    "# This list contains all the FRB that are classified as repeaters in site below.\n",
    "# https://www.herta-experiment.org/frbstats/repeaters\n",
    "\n",
    "repeater_list = ['FRB 20121102A', 'FRB 20180814A', 'FRB 20180908A', 'FRB 20180916B', 'FRB 20181017A' ,'FRB 20181030A' ,'FRB 20181119A' ,'FRB 20181119C' , 'FRB 20181128A', 'FRB 20181225B' , 'FRB 20190107B', 'FRB 20190116A' , 'FRB 20190117A', 'FRB 20190208A', 'FRB 20190209A', 'FRB 20190212A', 'FRB 20190213A' , 'FRB 20190222A', 'FRB 20190303A', 'FRB 20190417A', 'FRB 20190604A', 'FRB 20190711A', 'FRB 20190907A', 'FRB 20200120E', 'FRB 20201124A']\n",
    "repeater_index = []\n",
    "\n",
    "# This block of code acts as a unit testing to see if repeaters listed in above list lies in the catalogue or not.\n",
    "\n",
    "for k1 in np.arange(0, len(df_frb['frb'])):\n",
    "    for k2 in np.arange(0, len(repeater_list)):\n",
    "        if repeater_list[k2] == df_frb['frb'][k1]:\n",
    "            repeater_index.append(k1)\n",
    "            \n",
    "print('There are', len(repeater_list), 'repeating FRBs in the catalogue \\n')\n",
    "\n",
    "\n",
    "\n",
    "                       ############# Creating a separate dataframe of  FRB repeaters ###########    \n",
    "    \n",
    "df_frb_repeater = df_frb.loc[repeater_index]  # This dataframe will conatin all repeating FRBs \n",
    "\n",
    "\n",
    "                        ####################~~~~~~~~~~~~~~~~~~~~~~~~~~~~~~#####################\n",
    "    \n",
    "                    \n",
    "        \n",
    "                    ############# Removing frbs that has no values for pulse width ###########   \n",
    "            \n",
    "# How do I know the numbers in the list below? Just pull the df_frb_repeater dataframe and it will show missing \n",
    "# datas for pulse width fluence for FRBs with listed row index. Since we just need to look into small number of\n",
    "# data it can easily be identified by just looking into the dataframe.\n",
    "\n",
    "df_frb_repeater_clean = df_frb_repeater.drop([114, 659, 673, 718, 765])  # This dataframe has 20 repeaters.\n",
    "\n",
    "print('Only', len(df_frb_repeater_clean), 'repeating FRBs have values for pulse wdith.')\n",
    "\n",
    "                    ####################~~~~~~~~~~~~~~~~~~~~~~~~~~~~~~#####################"
   ]
  },
  {
   "cell_type": "markdown",
   "id": "4aabc996",
   "metadata": {},
   "source": [
    "Dispersion measure  data for 25 new repeater is taken from \"CHIME/FRB Discovery of 25 Repeating Fast Radio Burst Sources\"  Bridget et al, 2023 paper. "
   ]
  },
  {
   "cell_type": "code",
   "execution_count": 49,
   "id": "805e9f89",
   "metadata": {},
   "outputs": [],
   "source": [
    "DM_of_new25repeater = [287.984, 333.40, 439.772, 363.68, 488.69, 413.659, 510.42, 1703.48, \n",
    "                  479.602, 632.597, 202.268, 722.37, 400.57, 671.5, 351.3, 322.23, \n",
    "                  221.92, 625.57, 241.887, 523.57, 552.47, 428.90, 576.880, 758.44, \n",
    "                  684.408]\n",
    "\n",
    "combined_list_DM  = list(df_frb_repeater_clean['dm'].values) + DM_of_new25repeater"
   ]
  },
  {
   "cell_type": "code",
   "execution_count": 51,
   "id": "0ec236dd",
   "metadata": {},
   "outputs": [
    {
     "data": {
      "image/png": "[encoded data removed]",
      "text/plain": [
       "<Figure size 1080x864 with 1 Axes>"
      ]
     },
     "metadata": {
      "needs_background": "light"
     },
     "output_type": "display_data"
    }
   ],
   "source": [
    "fig, repeater_DM_histogram = plt.subplots(1, 1, figsize= (15,12))\n",
    "repeater_DM_histogram.hist(combined_list_DM)\n",
    "repeater_DM_histogram.set_xlabel('Dispersion measure', size = 20, weight = 'bold')\n",
    "repeater_DM_histogram.set_ylabel('Number of repeaters', size = 20, weight = 'bold')\n",
    "repeater_DM_histogram.set_title('Histogram of DM for repeating FRBs', size = 20, weight = 'bold')\n",
    "plt.show()"
   ]
  },
  {
   "cell_type": "code",
   "execution_count": null,
   "id": "0343188a",
   "metadata": {},
   "outputs": [],
   "source": []
  },
  {
   "cell_type": "code",
   "execution_count": 31,
   "id": "c320d462",
   "metadata": {},
   "outputs": [
    {
     "data": {
      "text/plain": [
       "[287.984,\n",
       " 333.4,\n",
       " 439.772,\n",
       " 363.68,\n",
       " 488.69,\n",
       " 413.659,\n",
       " 510.42,\n",
       " 1703.48,\n",
       " 479.602,\n",
       " 632.597,\n",
       " 202.268,\n",
       " 722.37,\n",
       " 400.57,\n",
       " 671.5,\n",
       " 351.3,\n",
       " 322.23,\n",
       " 221.92,\n",
       " 625.57,\n",
       " 241.887,\n",
       " 523.57,\n",
       " 552.47,\n",
       " 428.9,\n",
       " 576.88,\n",
       " 758.44,\n",
       " 684.408]"
      ]
     },
     "execution_count": 31,
     "metadata": {},
     "output_type": "execute_result"
    }
   ],
   "source": [
    "\n"
   ]
  },
  {
   "cell_type": "code",
   "execution_count": null,
   "id": "66d7da76",
   "metadata": {},
   "outputs": [],
   "source": []
  },
  {
   "cell_type": "code",
   "execution_count": null,
   "id": "919c1d11",
   "metadata": {},
   "outputs": [],
   "source": []
  },
  {
   "cell_type": "code",
   "execution_count": null,
   "id": "ed899776",
   "metadata": {},
   "outputs": [],
   "source": []
  },
  {
   "cell_type": "code",
   "execution_count": null,
   "id": "b007c420",
   "metadata": {},
   "outputs": [],
   "source": []
  },
  {
   "cell_type": "code",
   "execution_count": null,
   "id": "37aadba4",
   "metadata": {},
   "outputs": [],
   "source": []
  },
  {
   "cell_type": "code",
   "execution_count": null,
   "id": "618d5d62",
   "metadata": {},
   "outputs": [],
   "source": []
  },
  {
   "cell_type": "code",
   "execution_count": null,
   "id": "50e3210d",
   "metadata": {},
   "outputs": [],
   "source": []
  },
  {
   "cell_type": "code",
   "execution_count": null,
   "id": "ace0c396",
   "metadata": {},
   "outputs": [],
   "source": []
  },
  {
   "cell_type": "code",
   "execution_count": 74,
   "id": "586b2880",
   "metadata": {},
   "outputs": [],
   "source": [
    "herta_repeater_pwidth = df_frb_repeater_with_non_empty_val['width']\n",
    "\n",
    "herta_observed_pwidth_repeater = []\n",
    "\n",
    "for ind in np.arange(0, len(hert_repeater_pwidth)):\n",
    "    herta_observed_pwidth_repeater.append(float(herta_repeater_pwidth.values[ind]))"
   ]
  },
  {
   "cell_type": "code",
   "execution_count": 75,
   "id": "5158a4cc",
   "metadata": {},
   "outputs": [
    {
     "data": {
      "image/png": "[encoded data removed]",
      "text/plain": [
       "<Figure size 432x288 with 1 Axes>"
      ]
     },
     "metadata": {
      "needs_background": "light"
     },
     "output_type": "display_data"
    }
   ],
   "source": [
    "fig = sm.qqplot(np.array(np.log(herta_observed_pwidth_repeater)), line = '45')\n",
    "plt.show()"
   ]
  },
  {
   "cell_type": "code",
   "execution_count": 76,
   "id": "f009f9a4",
   "metadata": {},
   "outputs": [
    {
     "data": {
      "text/plain": [
       "AndersonResult(statistic=0.20306383002741768, critical_values=array([0.506, 0.577, 0.692, 0.807, 0.96 ]), significance_level=array([15. , 10. ,  5. ,  2.5,  1. ]))"
      ]
     },
     "execution_count": 76,
     "metadata": {},
     "output_type": "execute_result"
    }
   ],
   "source": [
    "anderson(np.log(herta_observed_pwidth_repeater))"
   ]
  },
  {
   "cell_type": "code",
   "execution_count": 78,
   "id": "4df4496d",
   "metadata": {},
   "outputs": [
    {
     "data": {
      "text/plain": [
       "ShapiroResult(statistic=0.9663732051849365, pvalue=0.6772081255912781)"
      ]
     },
     "execution_count": 78,
     "metadata": {},
     "output_type": "execute_result"
    }
   ],
   "source": [
    "shapiro(np.log(herta_observed_pwidth_repeater))"
   ]
  },
  {
   "cell_type": "markdown",
   "id": "22a18eb0",
   "metadata": {},
   "source": [
    "<font color = red>Both Shapiro and AD test for log normalized pulse width data for repeating FRBs taken from HeRTA catalogue showsh normal distribution.</font>"
   ]
  },
  {
   "cell_type": "markdown",
   "id": "2e922b2e",
   "metadata": {},
   "source": [
    "### Non-repeater part"
   ]
  },
  {
   "cell_type": "markdown",
   "id": "6cd46d38",
   "metadata": {},
   "source": [
    "#### Segregating non-repeating FRBs from main catalogue. I have also excluded those FRBs with no value available for 'width' and 'flux'."
   ]
  },
  {
   "cell_type": "code",
   "execution_count": 37,
   "id": "4683e409",
   "metadata": {},
   "outputs": [
    {
     "name": "stdout",
     "output_type": "stream",
     "text": [
      "\n",
      " There are  604 non-repeating FRBs with value available for burst width and flux.\n"
     ]
    }
   ],
   "source": [
    "non_repeater_index = []\n",
    "\n",
    "for ind1 in np.arange(0, len(df_frb)):\n",
    "    if df_frb.loc[ind1, 'width'] == '-' or df_frb.loc[ind1, 'flux'] == '-':  # Ignoring those FRBs with no data \n",
    "                                                                             # for \"flux\" and \"burst width\".  \n",
    "        continue\n",
    "    \n",
    "    if ind1 not in repeater_index:\n",
    "        non_repeater_index.append(ind1)\n",
    "# print(non_repeater_index)\n",
    "print('\\n There are ', len(non_repeater_index), 'non-repeating FRBs with value available for burst width and flux.')"
   ]
  },
  {
   "cell_type": "code",
   "execution_count": 38,
   "id": "604972d4",
   "metadata": {},
   "outputs": [
    {
     "data": {
      "text/html": [
       "<div>\n",
       "<style scoped>\n",
       "    .dataframe tbody tr th:only-of-type {\n",
       "        vertical-align: middle;\n",
       "    }\n",
       "\n",
       "    .dataframe tbody tr th {\n",
       "        vertical-align: top;\n",
       "    }\n",
       "\n",
       "    .dataframe thead th {\n",
       "        text-align: right;\n",
       "    }\n",
       "</style>\n",
       "<table border=\"1\" class=\"dataframe\">\n",
       "  <thead>\n",
       "    <tr style=\"text-align: right;\">\n",
       "      <th></th>\n",
       "      <th>frb</th>\n",
       "      <th>utc</th>\n",
       "      <th>mjd</th>\n",
       "      <th>telescope</th>\n",
       "      <th>ra</th>\n",
       "      <th>dec</th>\n",
       "      <th>l</th>\n",
       "      <th>b</th>\n",
       "      <th>frequency</th>\n",
       "      <th>dm</th>\n",
       "      <th>flux</th>\n",
       "      <th>width</th>\n",
       "      <th>fluence</th>\n",
       "      <th>redshift</th>\n",
       "    </tr>\n",
       "  </thead>\n",
       "  <tbody>\n",
       "    <tr>\n",
       "      <th>1</th>\n",
       "      <td>FRB 20010305A</td>\n",
       "      <td>2001-03-05 12:29:16</td>\n",
       "      <td>51973.52032</td>\n",
       "      <td>Parkes</td>\n",
       "      <td>4:57:20</td>\n",
       "      <td>-52:36:25</td>\n",
       "      <td>260.07</td>\n",
       "      <td>-38.35</td>\n",
       "      <td>1374</td>\n",
       "      <td>350.0</td>\n",
       "      <td>0.42</td>\n",
       "      <td>9</td>\n",
       "      <td>3.78</td>\n",
       "      <td>0.341</td>\n",
       "    </tr>\n",
       "    <tr>\n",
       "      <th>6</th>\n",
       "      <td>FRB 20110214A</td>\n",
       "      <td>2011-02-14 7:14:10</td>\n",
       "      <td>55606.30150</td>\n",
       "      <td>Parkes</td>\n",
       "      <td>1:21:17</td>\n",
       "      <td>-49:47:11</td>\n",
       "      <td>290.73</td>\n",
       "      <td>-66.63</td>\n",
       "      <td>1352</td>\n",
       "      <td>168.9</td>\n",
       "      <td>27</td>\n",
       "      <td>1.9</td>\n",
       "      <td>51.3</td>\n",
       "      <td>0.1758</td>\n",
       "    </tr>\n",
       "    <tr>\n",
       "      <th>8</th>\n",
       "      <td>FRB 20110523A</td>\n",
       "      <td>2011-05-23 15:06:20</td>\n",
       "      <td>55704.62940</td>\n",
       "      <td>GBT</td>\n",
       "      <td>21:45:12</td>\n",
       "      <td>-0:09:37</td>\n",
       "      <td>56.29</td>\n",
       "      <td>-37.73</td>\n",
       "      <td>800</td>\n",
       "      <td>623.3</td>\n",
       "      <td>0.6</td>\n",
       "      <td>1.73</td>\n",
       "      <td>-</td>\n",
       "      <td>0.5976</td>\n",
       "    </tr>\n",
       "    <tr>\n",
       "      <th>13</th>\n",
       "      <td>FRB 20121029A</td>\n",
       "      <td>2012-10-29 16:06:26</td>\n",
       "      <td>56229.67113</td>\n",
       "      <td>Pushchino LPA</td>\n",
       "      <td>0:12:00</td>\n",
       "      <td>+42:03:36</td>\n",
       "      <td>115.15</td>\n",
       "      <td>-20.21</td>\n",
       "      <td>111</td>\n",
       "      <td>732.0</td>\n",
       "      <td>0.34</td>\n",
       "      <td>320</td>\n",
       "      <td>1380</td>\n",
       "      <td>0.6663</td>\n",
       "    </tr>\n",
       "    <tr>\n",
       "      <th>18</th>\n",
       "      <td>FRB 20131030A</td>\n",
       "      <td>2013-10-30 16:13:15</td>\n",
       "      <td>56595.67587</td>\n",
       "      <td>Pushchino LPA</td>\n",
       "      <td>0:25:00</td>\n",
       "      <td>+39:58:48</td>\n",
       "      <td>117.45</td>\n",
       "      <td>-22.61</td>\n",
       "      <td>111</td>\n",
       "      <td>203.0</td>\n",
       "      <td>0.24</td>\n",
       "      <td>530</td>\n",
       "      <td>800</td>\n",
       "      <td>0.1739</td>\n",
       "    </tr>\n",
       "  </tbody>\n",
       "</table>\n",
       "</div>"
      ],
      "text/plain": [
       "              frb                  utc          mjd      telescope        ra  \\\n",
       "1   FRB 20010305A  2001-03-05 12:29:16  51973.52032         Parkes   4:57:20   \n",
       "6   FRB 20110214A   2011-02-14 7:14:10  55606.30150         Parkes   1:21:17   \n",
       "8   FRB 20110523A  2011-05-23 15:06:20  55704.62940            GBT  21:45:12   \n",
       "13  FRB 20121029A  2012-10-29 16:06:26  56229.67113  Pushchino LPA   0:12:00   \n",
       "18  FRB 20131030A  2013-10-30 16:13:15  56595.67587  Pushchino LPA   0:25:00   \n",
       "\n",
       "          dec       l      b frequency     dm  flux width fluence redshift  \n",
       "1   -52:36:25  260.07 -38.35      1374  350.0  0.42     9    3.78    0.341  \n",
       "6   -49:47:11  290.73 -66.63      1352  168.9    27   1.9    51.3   0.1758  \n",
       "8    -0:09:37   56.29 -37.73       800  623.3   0.6  1.73       -   0.5976  \n",
       "13  +42:03:36  115.15 -20.21       111  732.0  0.34   320    1380   0.6663  \n",
       "18  +39:58:48  117.45 -22.61       111  203.0  0.24   530     800   0.1739  "
      ]
     },
     "execution_count": 38,
     "metadata": {},
     "output_type": "execute_result"
    }
   ],
   "source": [
    "df_non_repeating_frb = df_frb.loc[non_repeater_index]\n",
    "df_non_repeating_frb.head()"
   ]
  },
  {
   "cell_type": "code",
   "execution_count": 89,
   "id": "5eb132d7",
   "metadata": {},
   "outputs": [],
   "source": [
    "herta_nonrep_pwidth = df_non_repeating_frb['width']\n",
    "\n",
    "herta_obs_nonrep_pwidth = []\n",
    "\n",
    "for ind in np.arange(0, len(herta_nonrep_pwidth)):\n",
    "    herta_obs_nonrep_pwidth.append(float(herta_nonrep_pwidth.values[ind]))"
   ]
  },
  {
   "cell_type": "code",
   "execution_count": 92,
   "id": "c6f57bb6",
   "metadata": {},
   "outputs": [
    {
     "data": {
      "text/plain": [
       "AndersonResult(statistic=13.931291175538036, critical_values=array([0.572, 0.652, 0.782, 0.912, 1.085]), significance_level=array([15. , 10. ,  5. ,  2.5,  1. ]))"
      ]
     },
     "execution_count": 92,
     "metadata": {},
     "output_type": "execute_result"
    }
   ],
   "source": [
    "anderson(np.log(herta_obs_nonrep_pwidth))"
   ]
  },
  {
   "cell_type": "code",
   "execution_count": 93,
   "id": "f4d1f7b7",
   "metadata": {},
   "outputs": [
    {
     "data": {
      "text/plain": [
       "ShapiroResult(statistic=0.875940203666687, pvalue=1.5597846533137848e-21)"
      ]
     },
     "execution_count": 93,
     "metadata": {},
     "output_type": "execute_result"
    }
   ],
   "source": [
    "shapiro(np.log(herta_obs_nonrep_pwidth))"
   ]
  },
  {
   "cell_type": "markdown",
   "id": "19fecf7c",
   "metadata": {},
   "source": [
    "<font color = red>For non-repeating FRBs in HeRTA catalogue log normalized observed pulsewidth does not show normal distribution.</font>"
   ]
  },
  {
   "cell_type": "markdown",
   "id": "cefa5f9f",
   "metadata": {},
   "source": [
    "# Friday Note EndPoint"
   ]
  },
  {
   "cell_type": "code",
   "execution_count": null,
   "id": "e655e6f1",
   "metadata": {},
   "outputs": [],
   "source": []
  },
  {
   "cell_type": "code",
   "execution_count": 40,
   "id": "3e4aceaf",
   "metadata": {},
   "outputs": [
    {
     "name": "stdout",
     "output_type": "stream",
     "text": [
      "10\n"
     ]
    }
   ],
   "source": [
    "tel_counter = 0\n",
    "for count1 in np.arange(0, len(df_non_repeating_frb['telescope'])):\n",
    "    if df_non_repeating_frb.iloc[count1, 3] == 'Pushchino LPA':\n",
    "        tel_counter +=1\n",
    "                        \n",
    "print(tel_counter)"
   ]
  },
  {
   "cell_type": "code",
   "execution_count": 41,
   "id": "899414c6",
   "metadata": {},
   "outputs": [
    {
     "data": {
      "image/png": "[encoded data removed]",
      "text/plain": [
       "<Figure size 864x720 with 1 Axes>"
      ]
     },
     "metadata": {
      "needs_background": "light"
     },
     "output_type": "display_data"
    }
   ],
   "source": [
    "fig, ax_dm_hist = plt.subplots(figsize = (12, 10))\n",
    "ax_dm_hist.hist(df_non_repeating_frb['width'], bins='auto', range = [0,5], linewidth=0.5, edgecolor=\"black\")\n",
    "ax_dm_hist.set_xlabel('Burst Width', size = 15, weight = 'bold')\n",
    "ax_dm_hist.set_ylabel('Number of FRBs', size = 15, weight = 'bold')\n",
    "ax_dm_hist.set_title('Dispersion Measure Histogram', size = 15, weight = 'bold')\n",
    "plt.show()"
   ]
  },
  {
   "cell_type": "code",
   "execution_count": 42,
   "id": "c998c84a",
   "metadata": {},
   "outputs": [
    {
     "data": {
      "image/png": "[encoded data removed]",
      "text/plain": [
       "<Figure size 864x720 with 1 Axes>"
      ]
     },
     "metadata": {
      "needs_background": "light"
     },
     "output_type": "display_data"
    }
   ],
   "source": [
    "fig, ax_dm_hist = plt.subplots(figsize = (12, 10))\n",
    "ax_dm_hist.hist(df_frb_repeater_with_non_empty_val['width'], bins=10, range = [0,5], linewidth=0.5, edgecolor=\"black\")\n",
    "ax_dm_hist.set_xlabel('Burst Width', size = 15, weight = 'bold')\n",
    "ax_dm_hist.set_ylabel('Number of FRBs', size = 15, weight = 'bold')\n",
    "ax_dm_hist.set_title('Dispersion Measure Histogram', size = 15, weight = 'bold')\n",
    "plt.show()"
   ]
  },
  {
   "cell_type": "code",
   "execution_count": 23,
   "id": "852f93fb",
   "metadata": {},
   "outputs": [
    {
     "ename": "NameError",
     "evalue": "name 'df_frb_repeater_with_non_empty_val' is not defined",
     "output_type": "error",
     "traceback": [
      "\u001b[0;31m---------------------------------------------------------------------------\u001b[0m",
      "\u001b[0;31mNameError\u001b[0m                                 Traceback (most recent call last)",
      "Input \u001b[0;32mIn [23]\u001b[0m, in \u001b[0;36m<cell line: 1>\u001b[0;34m()\u001b[0m\n\u001b[0;32m----> 1\u001b[0m \u001b[43mdf_frb_repeater_with_non_empty_val\u001b[49m[\u001b[38;5;124m'\u001b[39m\u001b[38;5;124mwidth\u001b[39m\u001b[38;5;124m'\u001b[39m]\u001b[38;5;241m.\u001b[39mvalues\n",
      "\u001b[0;31mNameError\u001b[0m: name 'df_frb_repeater_with_non_empty_val' is not defined"
     ]
    }
   ],
   "source": [
    "df_frb_repeater_with_non_empty_val['width'].values"
   ]
  },
  {
   "cell_type": "code",
   "execution_count": 24,
   "id": "7377c9b4",
   "metadata": {},
   "outputs": [
    {
     "ename": "NameError",
     "evalue": "name 'df_frb' is not defined",
     "output_type": "error",
     "traceback": [
      "\u001b[0;31m---------------------------------------------------------------------------\u001b[0m",
      "\u001b[0;31mNameError\u001b[0m                                 Traceback (most recent call last)",
      "Input \u001b[0;32mIn [24]\u001b[0m, in \u001b[0;36m<cell line: 1>\u001b[0;34m()\u001b[0m\n\u001b[0;32m----> 1\u001b[0m \u001b[38;5;28;01mfor\u001b[39;00m j \u001b[38;5;129;01min\u001b[39;00m np\u001b[38;5;241m.\u001b[39marange(\u001b[38;5;241m0\u001b[39m, \u001b[38;5;28mlen\u001b[39m(\u001b[43mdf_frb\u001b[49m[\u001b[38;5;124m'\u001b[39m\u001b[38;5;124mfrb\u001b[39m\u001b[38;5;124m'\u001b[39m])):\n\u001b[1;32m      3\u001b[0m     \u001b[38;5;28;01mif\u001b[39;00m df_frb\u001b[38;5;241m.\u001b[39miloc[j, \u001b[38;5;241m0\u001b[39m] \u001b[38;5;241m==\u001b[39m \u001b[38;5;124m'\u001b[39m\u001b[38;5;124mFRB 20180908A\u001b[39m\u001b[38;5;124m'\u001b[39m:\n\u001b[1;32m      4\u001b[0m         \u001b[38;5;28mprint\u001b[39m(j)\n",
      "\u001b[0;31mNameError\u001b[0m: name 'df_frb' is not defined"
     ]
    }
   ],
   "source": [
    "for j in np.arange(0, len(df_frb['frb'])):\n",
    "    \n",
    "    if df_frb.iloc[j, 0] == 'FRB 20180908A':\n",
    "        print(j)\n",
    "                "
   ]
  },
  {
   "cell_type": "code",
   "execution_count": 25,
   "id": "c662c5c7",
   "metadata": {},
   "outputs": [],
   "source": [
    "def intrinsic_width(disp_measure, freq_channel_bandwidth, central_freq, sampling_time, Obs_time):\n",
    "    \n",
    "    t_DM = 8.3*0.001*disp_measure*(freq_channel_bandwidth/(central_freq)^3)\n",
    "    \n",
    "    intrinsic_time = np.sqrt(obs_time**2 - t_DM**2 - sampling_time**2)"
   ]
  },
  {
   "cell_type": "code",
   "execution_count": 26,
   "id": "d81d2ad7",
   "metadata": {},
   "outputs": [
    {
     "ename": "NameError",
     "evalue": "name 'df_frb' is not defined",
     "output_type": "error",
     "traceback": [
      "\u001b[0;31m---------------------------------------------------------------------------\u001b[0m",
      "\u001b[0;31mNameError\u001b[0m                                 Traceback (most recent call last)",
      "Input \u001b[0;32mIn [26]\u001b[0m, in \u001b[0;36m<cell line: 1>\u001b[0;34m()\u001b[0m\n\u001b[0;32m----> 1\u001b[0m \u001b[43mdf_frb\u001b[49m[\u001b[38;5;241m1\u001b[39m:\u001b[38;5;241m9\u001b[39m]\n",
      "\u001b[0;31mNameError\u001b[0m: name 'df_frb' is not defined"
     ]
    }
   ],
   "source": [
    "df_frb[1:9]"
   ]
  },
  {
   "cell_type": "code",
   "execution_count": null,
   "id": "4f3205b8",
   "metadata": {},
   "outputs": [],
   "source": []
  },
  {
   "cell_type": "code",
   "execution_count": 27,
   "id": "3c6e9466",
   "metadata": {},
   "outputs": [],
   "source": [
    "column_names = ['source', 'Observed_width', 'intrinsic_width', 'flux', 'fluence', 'distance']\n",
    "\n",
    "df_repeaters = pd.DataFrame(columns= column_names)"
   ]
  },
  {
   "cell_type": "code",
   "execution_count": 28,
   "id": "b7b4cdd6",
   "metadata": {},
   "outputs": [
    {
     "data": {
      "text/html": [
       "<div>\n",
       "<style scoped>\n",
       "    .dataframe tbody tr th:only-of-type {\n",
       "        vertical-align: middle;\n",
       "    }\n",
       "\n",
       "    .dataframe tbody tr th {\n",
       "        vertical-align: top;\n",
       "    }\n",
       "\n",
       "    .dataframe thead th {\n",
       "        text-align: right;\n",
       "    }\n",
       "</style>\n",
       "<table border=\"1\" class=\"dataframe\">\n",
       "  <thead>\n",
       "    <tr style=\"text-align: right;\">\n",
       "      <th></th>\n",
       "      <th>source</th>\n",
       "      <th>Observed_width</th>\n",
       "      <th>intrinsic_width</th>\n",
       "      <th>flux</th>\n",
       "      <th>fluence</th>\n",
       "      <th>distance</th>\n",
       "    </tr>\n",
       "  </thead>\n",
       "  <tbody>\n",
       "  </tbody>\n",
       "</table>\n",
       "</div>"
      ],
      "text/plain": [
       "Empty DataFrame\n",
       "Columns: [source, Observed_width, intrinsic_width, flux, fluence, distance]\n",
       "Index: []"
      ]
     },
     "execution_count": 28,
     "metadata": {},
     "output_type": "execute_result"
    }
   ],
   "source": [
    "df_repeaters"
   ]
  },
  {
   "cell_type": "markdown",
   "id": "edd8180b",
   "metadata": {},
   "source": [
    "### Histogram of pulse width (Made using the data from the authors table)"
   ]
  },
  {
   "cell_type": "code",
   "execution_count": 43,
   "id": "0bb033d9",
   "metadata": {},
   "outputs": [
    {
     "data": {
      "image/png": "[encoded data removed]",
      "text/plain": [
       "<Figure size 864x720 with 1 Axes>"
      ]
     },
     "metadata": {
      "needs_background": "light"
     },
     "output_type": "display_data"
    }
   ],
   "source": [
    "pwidth_fromauthor = [4.82, 23.45, 4.62, 5.27, 1.01, 5.90, 3.49, 2.75, 16.8, 6.55, 2.71, 1.11, 3.83, 2.10, 3.10, \n",
    "                     3.20, 4.50, 2.74, 7.00, 2.18]\n",
    "fig, ax_pwidth_author = plt.subplots(figsize = (12, 10))\n",
    "ax_pwidth_author.hist(pwidth_fromauthor, bins = 20)\n",
    "ax_pwidth_author.set_ylabel('Number of FRBs', size = 15, weight = 'bold')\n",
    "ax_pwidth_author.set_xlabel('Pulse Width (in ms)', size = 15, weight = 'bold')\n",
    "ax_pwidth_author.set_title('Pulse Width Histogram', size = 15, weight = 'bold')\n",
    "plt.show()"
   ]
  },
  {
   "cell_type": "code",
   "execution_count": 45,
   "id": "fdcf5f83",
   "metadata": {},
   "outputs": [
    {
     "data": {
      "image/png": "[encoded data removed]",
      "text/plain": [
       "<Figure size 432x288 with 1 Axes>"
      ]
     },
     "metadata": {
      "needs_background": "light"
     },
     "output_type": "display_data"
    }
   ],
   "source": [
    "fig_repeater_from_paper = sm.qqplot(np.array(pwidth_fromauthor), line = '45')\n",
    "plt.show()"
   ]
  },
  {
   "cell_type": "markdown",
   "id": "d4603d0b",
   "metadata": {},
   "source": [
    "### Trying AD test for sample of repeating FRB data"
   ]
  },
  {
   "cell_type": "code",
   "execution_count": 47,
   "id": "5b740b46",
   "metadata": {},
   "outputs": [
    {
     "data": {
      "text/plain": [
       "AndersonResult(statistic=0.4297467433047828, critical_values=array([0.506, 0.577, 0.692, 0.807, 0.96 ]), significance_level=array([15. , 10. ,  5. ,  2.5,  1. ]))"
      ]
     },
     "execution_count": 47,
     "metadata": {},
     "output_type": "execute_result"
    }
   ],
   "source": [
    "anderson(np.log(pwidth_fromauthor))"
   ]
  },
  {
   "cell_type": "code",
   "execution_count": null,
   "id": "a64bcd36",
   "metadata": {},
   "outputs": [],
   "source": []
  },
  {
   "cell_type": "markdown",
   "id": "55672410",
   "metadata": {},
   "source": [
    "<font color = 'red'>This sample of data is also exactly as used by authors. They have also indicated in the paper that AD test for repeater set of data gives negative test hypothesis i.e. data for pulse width of repeating FRBs does not show normal ditribution. Test above also shows test statistic refutes that data is normally distributed. </font>"
   ]
  },
  {
   "cell_type": "code",
   "execution_count": 32,
   "id": "872c4608",
   "metadata": {},
   "outputs": [],
   "source": [
    "table_one = pd.DataFrame(columns = ['source', 'observed_width', 'intrinsic_width', 'flux_density', 'fluence'])"
   ]
  },
  {
   "cell_type": "code",
   "execution_count": 33,
   "id": "ccccaf44",
   "metadata": {},
   "outputs": [
    {
     "name": "stdout",
     "output_type": "stream",
     "text": [
      "Loop No 0\n"
     ]
    },
    {
     "ename": "NameError",
     "evalue": "name 'df_frb' is not defined",
     "output_type": "error",
     "traceback": [
      "\u001b[0;31m---------------------------------------------------------------------------\u001b[0m",
      "\u001b[0;31mNameError\u001b[0m                                 Traceback (most recent call last)",
      "Input \u001b[0;32mIn [33]\u001b[0m, in \u001b[0;36m<cell line: 12>\u001b[0;34m()\u001b[0m\n\u001b[1;32m     13\u001b[0m name \u001b[38;5;241m=\u001b[39m repeater_source_names[a1]\u001b[38;5;241m.\u001b[39mreplace(\u001b[38;5;124m'\u001b[39m\u001b[38;5;124m_\u001b[39m\u001b[38;5;124m'\u001b[39m, \u001b[38;5;124m'\u001b[39m\u001b[38;5;124m \u001b[39m\u001b[38;5;124m'\u001b[39m)    \u001b[38;5;66;03m# To match with the name in catalouge\u001b[39;00m\n\u001b[1;32m     15\u001b[0m \u001b[38;5;28mprint\u001b[39m(\u001b[38;5;124m'\u001b[39m\u001b[38;5;124mLoop No\u001b[39m\u001b[38;5;124m'\u001b[39m, a1)\n\u001b[0;32m---> 17\u001b[0m ind_no \u001b[38;5;241m=\u001b[39m \u001b[38;5;28mlist\u001b[39m(\u001b[43mdf_frb\u001b[49m[\u001b[38;5;124m'\u001b[39m\u001b[38;5;124mfrb\u001b[39m\u001b[38;5;124m'\u001b[39m])\u001b[38;5;241m.\u001b[39mindex(name)\n\u001b[1;32m     19\u001b[0m \u001b[38;5;28mprint\u001b[39m(\u001b[38;5;124m'\u001b[39m\u001b[38;5;124mFRB Index\u001b[39m\u001b[38;5;124m'\u001b[39m,ind_no)\n\u001b[1;32m     21\u001b[0m \u001b[38;5;28;01mif\u001b[39;00m df_frb\u001b[38;5;241m.\u001b[39miloc[ind_no, \u001b[38;5;241m11\u001b[39m] \u001b[38;5;241m==\u001b[39m \u001b[38;5;124m'\u001b[39m\u001b[38;5;124m-\u001b[39m\u001b[38;5;124m'\u001b[39m:                 \u001b[38;5;66;03m# Column for width is 11th column\u001b[39;00m\n",
      "\u001b[0;31mNameError\u001b[0m: name 'df_frb' is not defined"
     ]
    }
   ],
   "source": [
    "repeater_source_names = ['FRB 20200120E', 'FRB 20201129A', 'FRB 20200718A'] \n",
    "\n",
    "\n",
    "\n",
    "# Create empty list to store data with their respective values.\n",
    "\n",
    "observed_width = 0\n",
    "flux_density = 0\n",
    "fluence = 0\n",
    "total_sample = 0\n",
    "\n",
    "for a1 in np.arange(0 , len(repeater_source_names)):\n",
    "    name = repeater_source_names[a1].replace('_', ' ')    # To match with the name in catalouge\n",
    "    \n",
    "    print('Loop No', a1)\n",
    "    \n",
    "    ind_no = list(df_frb['frb']).index(name)\n",
    "    \n",
    "    print('FRB Index',ind_no)\n",
    "    \n",
    "    if df_frb.iloc[ind_no, 11] == '-':                 # Column for width is 11th column\n",
    "        continue\n",
    "    total_sample += 1\n",
    "    observed_width += float(df_frb.iloc[ind_no, 11])\n",
    "    \n",
    "    print('Sample count ', total_sample)\n",
    "    print('Observed width', observed_width)\n",
    "    print('\\n\\n')\n",
    "\n",
    "\n",
    "        \n",
    "#     flux_density += float(df_frb.iloc[ind_no, 10])\n",
    "    \n",
    "#     print('flux_density', flux_density)\n",
    "    \n",
    "#     fluence += float(df_frb.iloc[ind_no, 12])\n",
    "    \n",
    "#     print('fluence', fluence)\n",
    "    \n",
    "\n",
    "mean_obs_width = observed_width/total_sample\n",
    "\n",
    "# mean_flux_density = flux_density/len(repeater_source_names)\n",
    "\n",
    "# mean_fluence = fluence/len(repeater_source_names) \n",
    "\n",
    "# table_one.iloc[0, 0] = repeater_source_names[a1]\n",
    "\n",
    "# table_one.iloc[0, 1] = mean_obs_width\n",
    "\n",
    "# table_one.iloc[0, 3] = mean_flux_density\n",
    "\n",
    "# table_one.iloc[0, 4] = mean_fluence\n",
    "\n",
    "    \n",
    "print('Average width', mean_obs_width)\n",
    "\n",
    "if repeater_source_names[0] not in pulse_width:\n",
    "    pulse_width.append(repeater_source_names[0] )\n",
    "    pulse_width.append(mean_obs_width)\n"
   ]
  },
  {
   "cell_type": "code",
   "execution_count": 34,
   "id": "ac988579",
   "metadata": {},
   "outputs": [
    {
     "ename": "NameError",
     "evalue": "name 'df_frb' is not defined",
     "output_type": "error",
     "traceback": [
      "\u001b[0;31m---------------------------------------------------------------------------\u001b[0m",
      "\u001b[0;31mNameError\u001b[0m                                 Traceback (most recent call last)",
      "Input \u001b[0;32mIn [34]\u001b[0m, in \u001b[0;36m<cell line: 1>\u001b[0;34m()\u001b[0m\n\u001b[0;32m----> 1\u001b[0m \u001b[43mdf_frb\u001b[49m\u001b[38;5;241m.\u001b[39miloc[\u001b[38;5;241m767\u001b[39m]\n",
      "\u001b[0;31mNameError\u001b[0m: name 'df_frb' is not defined"
     ]
    }
   ],
   "source": [
    "df_frb.iloc[767]"
   ]
  },
  {
   "cell_type": "code",
   "execution_count": 49,
   "id": "50c81cb6",
   "metadata": {},
   "outputs": [
    {
     "data": {
      "image/png": "[encoded data removed]",
      "text/plain": [
       "<Figure size 1080x576 with 2 Axes>"
      ]
     },
     "metadata": {
      "needs_background": "light"
     },
     "output_type": "display_data"
    }
   ],
   "source": [
    "pulse_width = [4.81, 16.97, 13.76, 8.70, 122.88, 4.92, 2.46, 12.12, 16.05, 9.83, 12.78, 18.18, 4.92, 4.42, 13.76, \n",
    "               7.35, 17.2, 17.69, 6.88, 1, 2.15  ]\n",
    "\n",
    "pwidth_fromauthor = [4.82, 23.45, 4.62, 5.27, 1.01, 5.90, 3.49, 2.75, 16.8, 6.55, 2.71, 1.11, 3.83, 2.10, 3.10, \n",
    "                     3.20, 4.50, 2.74, 7.00, 2.18]\n",
    "\n",
    "fig, ax_pwidth_herta = plt.subplots(1, 2, figsize = (15, 8))\n",
    "ax_pwidth_herta[0].hist(pulse_width, bins = 10)\n",
    "ax_pwidth_herta[1].hist(pwidth_fromauthor, bins = 20)\n",
    "\n",
    "ax_pwidth_herta[0].set_ylabel('Number of FRBs', size = 15, weight = 'bold')\n",
    "ax_pwidth_herta[0].set_xlabel('Pulse Width (in ms)', size = 15, weight = 'bold')\n",
    "ax_pwidth_herta[0].set_title('Pulse Width Histogram using data from Herta catalogue ', size = 15, weight = 'bold')\n",
    "\n",
    "ax_pwidth_herta[1].set_ylabel('Number of FRBs', size = 15, weight = 'bold')\n",
    "ax_pwidth_herta[1].set_xlabel('Pulse Width (in ms)', size = 15, weight = 'bold')\n",
    "ax_pwidth_herta[1].set_title('Pulse Width Histogram as in paper', size = 15, weight = 'bold')\n",
    "plt.savefig('/home/astroguy/Desktop/Research/repeater_comparison_plot.pdf')\n",
    "plt.show()"
   ]
  },
  {
   "cell_type": "code",
   "execution_count": null,
   "id": "0f2a9fc6",
   "metadata": {},
   "outputs": [],
   "source": []
  },
  {
   "cell_type": "code",
   "execution_count": 50,
   "id": "0589c59c",
   "metadata": {},
   "outputs": [
    {
     "name": "stdout",
     "output_type": "stream",
     "text": [
      "205\n"
     ]
    }
   ],
   "source": [
    "rep_list = ['FRB 20121102A', 'FRB 20150517A', 'FRB 20170826A','FRB 20160823A', 'FRB 20151208A', 'FRB 20151119D', \n",
    "            'FRB 20151119C', 'FRB 20151119B', 'FRB 20151119A', 'FRB 20151113A', 'FRB 20150602H', 'FRB 20150602G', \n",
    "            'FRB 20150602F', 'FRB 20150602E', 'FRB 20150602D', 'FRB 20150602C', 'FRB 20150602B', 'FRB 20150602A', \n",
    "            'FRB 20150517B', 'FRB 20180814A', 'FRB 20200224A', 'FRB 20191111A', \n",
    "            'FRB 20191107A', 'FRB 20191029A', 'FRB 20190817A', 'FRB 20190626A', 'FRB 20190625E', 'FRB 20190611A', \n",
    "            'FRB 20190517B', 'FRB 20190329A', \n",
    " 'FRB 20190224F', 'FRB 20181120C', 'FRB 20181118C', 'FRB 20181028A', 'FRB 20180919A', 'FRB 20180917A',\n",
    "            'FRB 20180911C', 'FRB 20200302A', 'FRB 20180908A','FRB 20190718A', \n",
    " 'FRB 20190702A', 'FRB 20190621A', 'FRB 20180908B', 'FRB 20180916B', 'FRB 20200423A', 'FRB 20200324C', 'FRB 20200324B', 'FRB 20200324A', 'FRB 20200323B', 'FRB 20200323A', \n",
    " 'FRB 20200221A', 'FRB 20200220D', 'FRB 20200220C', 'FRB 20200220B', 'FRB 20200220A', 'FRB 20200219A', 'FRB 20200204E', 'FRB 20200204D', 'FRB 20200204C', 'FRB 20200204B',\n",
    " 'FRB 20200203A', 'FRB 20200120D', 'FRB 20200120C', 'FRB 20200120B', 'FRB 20200120A', 'FRB 20191219E', 'FRB 20191219D', 'FRB 20191219C', 'FRB 20191219B', 'FRB 20191219A', \n",
    " 'FRB 20191218A', 'FRB 20191115A', 'FRB 20191030B',\n",
    "'FRB 20191030A', F'RB 20190825C', 'FRB 20190825B', 'FRB 20190825A', 'FRB 20190810B',  'FRB 20190809A', 'FRB 20190619H', 'FRB 20190619G', 'FRB 20190619F', 'FRB 20190619E',\n",
    "'FRB 20190605B', 'FRB 20190605A', 'FRB 20190604F', 'FRB 20190604B', 'FRB 20190603A', 'FRB 20190519C', 'FRB 20190519B', 'FRB 20190519A', 'FRB 20190518E', 'FRB 20190518A',\n",
    "'FRB 20190126A', 'FRB 20181226A', 'FRB 20181225A', 'FRB 20181223A', 'FRB 20181222A', 'FRB 20181120B', 'FRB 20181120A', 'FRB 20181104B', 'FRB 20181104A', 'FRB 20181019A',\n",
    " 'FRB 20190216A', 'FRB20181030A', 'FRB 20200122G', 'FRB 20200122F', 'FRB 20200122E', 'FRB 20200122D', 'FRB 20200122C', 'FRB 20200122B', 'FRB 20200122A', 'FRB 20181030B', \n",
    " 'FRB 20181119A', 'FRB 20191205A', 'FRB 20191202A', 'FRB 20190926A', 'FRB 20190313A', 'FRB 20190103A', 'FRB 20181128A', 'FRB 20190527B', 'FRB 20190302B', 'FRB 20181219A', \n",
    " 'FRB 20190116A', 'FRB 20190116B', 'FRB 20190117A', 'FRB 20191223A', 'FRB 20190824A', 'FRB 20190815A', 'FRB 20190810A', 'FRB 20190630A', 'FRB 20190208A', 'FRB 20200314A',\n",
    " 'FRB 20200124A', 'FRB 20190406A', 'FRB 20190209A', 'FRB 20190212A', 'FRB 20191220A', 'FRB 20191217A', 'FRB 20190516A', 'FRB 20190213B', 'FRB 20190213A', 'FRB 20190515C', \n",
    " 'FRB 20190222A', 'FRB 20190301A', 'FRB 20190303A', 'FRB 20200112A', 'FRB 20191231A', 'FRB 20191215A', 'FRB 20191117A', 'FRB 20191116A', 'FRB 20191113A', 'FRB 20191110A', \n",
    " 'FRB 20191029B', \n",
    "'FRB 20191020A', 'FRB 20191013A', 'FRB 20190702B', 'FRB 20190421A', 'FRB 20190417A', 'FRB 20200124B', 'FRB 20190929A', 'FRB 20190806A', 'FRB 20190604A', 'FRB 20190606A',\n",
    "'FRB 20190804A', 'FRB 20190711A', 'FRB 20190907A', 'FRB 20200307A', 'FRB 20190925A', 'FRB 20190915A', 'FRB 20200120E', 'FRB 20201129A', 'FRB 20200718A', 'FRB 20201124A', \n",
    "'FRB 20210415A', 'FRB 20210407C', 'FRB 20210407B', 'FRB 20210407A', 'FRB 20210405H', 'FRB 20210405G', 'FRB 20210405F', 'FRB 20210405E', 'FRB 20210405D', 'FRB 20210405C', \n",
    "'FRB 20210404C', 'FRB 20210404B', 'FRB 20210403B', 'FRB 20210403A', 'FRB 20210402A', 'FRB 20210401B', 'FRB 20210401A', 'FRB 20210328A', 'FRB 20210327C', 'FRB 20210327B',\n",
    " 'FRB 20210327A','FRB 20210326A', 'FRB 20210323A', 'FRB 20210322A', 'FRB 20210321A', 'FRB 20210301A', 'FRB 20210220A', 'FRB 20201216A', 'FRB 20201210A', 'FRB 20201124B', \n",
    " 'FRB 20210518A']\n",
    "\n",
    "print(len(rep_list))"
   ]
  },
  {
   "cell_type": "code",
   "execution_count": 51,
   "id": "faf8054b",
   "metadata": {},
   "outputs": [
    {
     "name": "stdout",
     "output_type": "stream",
     "text": [
      "Number of repeaters 252\n",
      "Number of non_repeaters with available values 554\n",
      "[9.0, 1.9, 1.73, 320.0, 530.0, 390.0, 2.0, 870.0, 2.88, 0.8, 2.0, 0.35, 2500.0, 3.0, 4.4, 3.4, 1590.0, 21.0, 4.0, 9.0, 5000.0, 810.0, 5.0, 4.4, 3300.0, 3.5, 1.4, 2.5, 2.0, 2.0, 5.4, 3.2, 3.2, 2.5, 1.5, 1.9, 3.2, 2.7, 2.9, 2.3, 4.1, 4.5, 1.81, 2.4, 1670.0, 4.3, 2.52, 1.2, 1.9, 3.8, 2.95, 2.95, 0.98, 1.97, 4.92, 9.83, 2.95, 1.97, 0.98, 7.86, 5.9, 17.69, 1.97, 0.98, 5.9, 5.9, 2.95, 1.97, 5.9, 11.8, 19.66, 0.98, 1.97, 4.92, 4.92, 0.98, 9.83, 19.66, 2.95, 0.98, 14.75, 10.81, 3.93, 2.95, 1.97, 20.0, 1.97, 0.98, 2.95, 1.3, 14.75, 5.9, 2.95, 3.93, 0.98, 119.93, 4.92, 2.95, 5.9, 3.93, 3.93, 1.97, 1.97, 37.36, 12.78, 1.43, 31.46, 0.98, 0.98, 2.95, 1.97, 12.78, 3.93, 1.97, 2.95, 1.97, 5.9, 1.97, 0.98, 2.95, 5.9, 30.47, 0.98, 0.98, 2.1, 4.92, 1.97, 3.93, 5.9, 7.86, 3.93, 3.93, 3.93, 5.3, 22.61, 0.98, 36.37, 2.95, 2.95, 0.98, 1.97, 1.05, 4.92, 3.93, 14.75, 1.97, 3.93, 5.9, 14.75, 1.97, 2.95, 1.97, 4.92, 0.98, 9.52, 125.83, 3.93, 6.88, 4.92, 7.86, 2.95, 3.93, 11.8, 4.92, 1.97, 2.95, 4.92, 2.95, 2.95, 2.95, 5.9, 16.71, 8.85, 4.92, 1.97, 1.97, 2.95, 5.9, 2.95, 4.92, 4.92, 2.95, 2.95, 1.97, 4.92, 2.95, 1.97, 3.93, 22.61, 3.93, 8.85, 1.97, 1.97, 8.85, 29.49, 3.93, 1.97, 2.95, 1.97, 3.93, 1.97, 2.95, 1.97, 2.95, 4.92, 2.95, 4.92, 20.64, 34.41, 10.81, 2.95, 0.98, 10.81, 2.95, 2.95, 1.97, 42.27, 2.95, 3.93, 2.95, 1.7, 31.46, 4.92, 2.95, 2.95, 1.97, 5.9, 8.85, 6.88, 1.97, 47.19, 0.98, 13.76, 6.88, 2.95, 8.85, 2.95, 5.9, 3.93, 9.83, 6.88, 4.92, 2.95, 3.93, 2.95, 9.83, 0.98, 2.95, 1.97, 2.95, 1.97, 36.37, 7.86, 44.24, 5.9, 14.75, 23.59, 14.75, 13.76, 4.92, 18.68, 1.97, 13.76, 6.88, 67.83, 6.88, 1.97, 15.73, 4.92, 8.85, 14.75, 3.93, 1.97, 0.98, 1.97, 0.98, 0.98, 2.95, 1.97, 0.98, 3.93, 2.95, 3.93, 7.86, 2.95, 2.95, 5.9, 19.66, 5.9, 0.98, 0.98, 11.8, 2.95, 1.97, 1.97, 1.97, 3.93, 0.98, 2.95, 20.64, 21.63, 1.97, 1.97, 23.59, 6.88, 1.97, 7.86, 26.54, 2.95, 17.69, 0.98, 3.93, 10.81, 4.92, 1.97, 2.95, 6.88, 14.75, 1.97, 21.63, 1.97, 0.98, 3.93, 1.97, 16.71, 1.97, 7.86, 1.97, 1.97, 0.98, 18.68, 4.92, 3.93, 0.98, 30.47, 23.59, 3.93, 11.8, 5.9, 106.17, 4.92, 5.9, 2.95, 2.95, 2.95, 2.95, 6.88, 22.61, 1.97, 21.63, 1.97, 7.86, 1.97, 1.97, 2.95, 28.51, 3.93, 20.64, 12.78, 8.85, 2.95, 2.95, 3.93, 33.42, 2.95, 23.59, 2.95, 2.95, 1.35, 3.93, 0.98, 2.95, 12.78, 2.95, 6.88, 8.85, 0.98, 1.97, 9.83, 4.92, 4.92, 5.9, 4.92, 1.97, 1.97, 10.81, 15.73, 2.95, 10.81, 4.92, 2.95, 18.68, 14.75, 1.97, 4.92, 0.98, 13.76, 4.92, 1.97, 2.95, 30.47, 1.97, 2.95, 6.88, 1.97, 1.97, 3.93, 2.95, 2.95, 42.27, 4.92, 11.8, 6.88, 35.39, 4.92, 6.88, 5.9, 46.2, 0.98, 1.97, 3.93, 1.97, 1.97, 6.88, 13.76, 2.95, 29.49, 13.76, 5.9, 9.83, 7.86, 8.85, 0.98, 0.98, 1.97, 1.97, 1.97, 3.93, 2.95, 16.71, 19.66, 25.56, 2.95, 5.9, 3.93, 4.92, 1.97, 47.19, 4.92, 4.92, 13.76, 1.97, 14.75, 0.98, 2.95, 1.97, 0.98, 1.97, 0.98, 6.88, 18.68, 2.95, 1.97, 1.97, 8.7, 0.42, 57.02, 6.88, 3.93, 1.97, 0.98, 1.97, 2.95, 0.98, 5.9, 24.58, 5.9, 10.81, 3.93, 20.64, 2.95, 1.97, 4.92, 0.98, 3.93, 6.88, 4.92, 2.95, 0.98, 6.0, 4.92, 0.98, 0.98, 2.95, 2.0, 70.78, 0.98, 3.93, 7.86, 0.98, 3.93, 1.97, 4.92, 1.97, 4.92, 13.76, 9.83, 1.97, 1.97, 0.98, 0.98, 32.44, 1.97, 0.98, 3.93, 1.97, 2.95, 1.97, 5.9, 5.9, 0.98, 58.0, 0.98, 1.97, 1.97, 2.95, 1.97, 7.86, 0.98, 2.95, 19.66, 3.93, 20.64, 3.93, 1.97, 1.97, 2.95, 1.97, 8.85, 2.95, 0.49, 0.34, 6.25, 4.9, 1.3, 3.9, 6.0, 1.2, 2.14, 3.1, 3.3, 1.55, 29.7, 2.2]\n"
     ]
    }
   ],
   "source": [
    "non_rep_pwidth = []\n",
    "\n",
    "count_rep = 0\n",
    "count_nonrep = 0\n",
    "for index1 in np.arange(0, 806):\n",
    "    if df_frb['frb'][index1] in rep_list or df_frb.iloc[index1, 11] == '-':\n",
    "        count_rep+=1\n",
    "        continue\n",
    "    else:\n",
    "        count_nonrep +=1\n",
    "#         print(index1)\n",
    "#         print(df_frb['frb'][index1])\n",
    "        pwidth_val = df_frb.iloc[index1, 11]\n",
    "        non_rep_pwidth.append(float(pwidth_val))\n",
    "print('Number of repeaters',count_rep)\n",
    "print('Number of non_repeaters with available values', count_nonrep)\n",
    "print(non_rep_pwidth)"
   ]
  },
  {
   "cell_type": "code",
   "execution_count": 52,
   "id": "e783a40b",
   "metadata": {},
   "outputs": [
    {
     "name": "stdout",
     "output_type": "stream",
     "text": [
      "Pushchino LPA 320\n",
      "Pushchino LPA 530\n",
      "Pushchino LPA 390\n",
      "Pushchino LPA 870\n",
      "Pushchino LPA 2500\n",
      "Pushchino LPA -\n",
      "Pushchino LPA 1590\n",
      "Pushchino LPA 5000\n",
      "Pushchino LPA 810\n",
      "Pushchino LPA 3300\n",
      "Pushchino LPA 1670\n",
      "11\n"
     ]
    }
   ],
   "source": [
    "cou = 0\n",
    "for k in np.arange(0, len(df_frb['telescope'])):\n",
    "    if df_frb['telescope'][k] == 'Pushchino LPA':\n",
    "        name = df_frb['telescope'][k]\n",
    "        pwidth_val = df_frb.iloc[k, 11]\n",
    "        cou +=1\n",
    "        print(name, pwidth_val)\n",
    "print(cou)"
   ]
  },
  {
   "cell_type": "code",
   "execution_count": 53,
   "id": "a2113484",
   "metadata": {},
   "outputs": [
    {
     "name": "stdout",
     "output_type": "stream",
     "text": [
      "[9.0, 1.9, 1.73, 2.0, 2.88, 0.8, 2.0, 0.35, 3.0, 4.4, 3.4, 21.0, 4.0, 9.0, 5.0, 4.4, 3.5, 1.4, 2.5, 2.0, 2.0, 5.4, 3.2, 3.2, 2.5, 1.5, 1.9, 3.2, 2.7, 2.9, 2.3, 4.1, 4.5, 1.81, 2.4, 4.3, 2.52, 1.2, 1.9, 3.8, 2.95, 2.95, 0.98, 1.97, 4.92, 9.83, 2.95, 1.97, 0.98, 7.86, 5.9, 17.69, 1.97, 0.98, 5.9, 5.9, 2.95, 1.97, 5.9, 11.8, 19.66, 0.98, 1.97, 4.92, 4.92, 0.98, 9.83, 19.66, 2.95, 0.98, 14.75, 10.81, 3.93, 2.95, 1.97, 20.0, 1.97, 0.98, 2.95, 1.3, 14.75, 5.9, 2.95, 3.93, 0.98, 4.92, 2.95, 5.9, 3.93, 3.93, 1.97, 1.97, 12.78, 1.43, 31.46, 0.98, 0.98, 2.95, 1.97, 12.78, 3.93, 1.97, 2.95, 1.97, 5.9, 1.97, 0.98, 2.95, 5.9, 30.47, 0.98, 0.98, 2.1, 4.92, 1.97, 3.93, 5.9, 7.86, 3.93, 3.93, 3.93, 5.3, 22.61, 0.98, 2.95, 2.95, 0.98, 1.97, 1.05, 4.92, 3.93, 14.75, 1.97, 3.93, 5.9, 14.75, 1.97, 2.95, 1.97, 4.92, 0.98, 9.52, 3.93, 6.88, 4.92, 7.86, 2.95, 3.93, 11.8, 4.92, 1.97, 2.95, 4.92, 2.95, 2.95, 2.95, 5.9, 16.71, 8.85, 4.92, 1.97, 1.97, 2.95, 5.9, 2.95, 4.92, 4.92, 2.95, 2.95, 1.97, 4.92, 2.95, 1.97, 3.93, 22.61, 3.93, 8.85, 1.97, 1.97, 8.85, 29.49, 3.93, 1.97, 2.95, 1.97, 3.93, 1.97, 2.95, 1.97, 2.95, 4.92, 2.95, 4.92, 20.64, 34.41, 10.81, 2.95, 0.98, 10.81, 2.95, 2.95, 1.97, 2.95, 3.93, 2.95, 1.7, 31.46, 4.92, 2.95, 2.95, 1.97, 5.9, 8.85, 6.88, 1.97, 0.98, 13.76, 6.88, 2.95, 8.85, 2.95, 5.9, 3.93, 9.83, 6.88, 4.92, 2.95, 3.93, 2.95, 9.83, 0.98, 2.95, 1.97, 2.95, 1.97, 7.86, 5.9, 14.75, 23.59, 14.75, 13.76, 4.92, 18.68, 1.97, 13.76, 6.88, 6.88, 1.97, 15.73, 4.92, 8.85, 14.75, 3.93, 1.97, 0.98, 1.97, 0.98, 0.98, 2.95, 1.97, 0.98, 3.93, 2.95, 3.93, 7.86, 2.95, 2.95, 5.9, 19.66, 5.9, 0.98, 0.98, 11.8, 2.95, 1.97, 1.97, 1.97, 3.93, 0.98, 2.95, 20.64, 21.63, 1.97, 1.97, 23.59, 6.88, 1.97, 7.86, 26.54, 2.95, 17.69, 0.98, 3.93, 10.81, 4.92, 1.97, 2.95, 6.88, 14.75, 1.97, 21.63, 1.97, 0.98, 3.93, 1.97, 16.71, 1.97, 7.86, 1.97, 1.97, 0.98, 18.68, 4.92, 3.93, 0.98, 30.47, 23.59, 3.93, 11.8, 5.9, 4.92, 5.9, 2.95, 2.95, 2.95, 2.95, 6.88, 22.61, 1.97, 21.63, 1.97, 7.86, 1.97, 1.97, 2.95, 28.51, 3.93, 20.64, 12.78, 8.85, 2.95, 2.95, 3.93, 33.42, 2.95, 23.59, 2.95, 2.95, 1.35, 3.93, 0.98, 2.95, 12.78, 2.95, 6.88, 8.85, 0.98, 1.97, 9.83, 4.92, 4.92, 5.9, 4.92, 1.97, 1.97, 10.81, 15.73, 2.95, 10.81, 4.92, 2.95, 18.68, 14.75, 1.97, 4.92, 0.98, 13.76, 4.92, 1.97, 2.95, 30.47, 1.97, 2.95, 6.88, 1.97, 1.97, 3.93, 2.95, 2.95, 4.92, 11.8, 6.88, 4.92, 6.88, 5.9, 0.98, 1.97, 3.93, 1.97, 1.97, 6.88, 13.76, 2.95, 29.49, 13.76, 5.9, 9.83, 7.86, 8.85, 0.98, 0.98, 1.97, 1.97, 1.97, 3.93, 2.95, 16.71, 19.66, 25.56, 2.95, 5.9, 3.93, 4.92, 1.97, 4.92, 4.92, 13.76, 1.97, 14.75, 0.98, 2.95, 1.97, 0.98, 1.97, 0.98, 6.88, 18.68, 2.95, 1.97, 1.97, 8.7, 0.42, 6.88, 3.93, 1.97, 0.98, 1.97, 2.95, 0.98, 5.9, 24.58, 5.9, 10.81, 3.93, 20.64, 2.95, 1.97, 4.92, 0.98, 3.93, 6.88, 4.92, 2.95, 0.98, 6.0, 4.92, 0.98, 0.98, 2.95, 2.0, 0.98, 3.93, 7.86, 0.98, 3.93, 1.97, 4.92, 1.97, 4.92, 13.76, 9.83, 1.97, 1.97, 0.98, 0.98, 32.44, 1.97, 0.98, 3.93, 1.97, 2.95, 1.97, 5.9, 5.9, 0.98, 0.98, 1.97, 1.97, 2.95, 1.97, 7.86, 0.98, 2.95, 19.66, 3.93, 20.64, 3.93, 1.97, 1.97, 2.95, 1.97, 8.85, 2.95, 0.49, 0.34, 6.25, 4.9, 1.3, 3.9, 6.0, 1.2, 2.14, 3.1, 3.3, 1.55, 29.7, 2.2]\n"
     ]
    }
   ],
   "source": [
    "non_rep_pwidthless35 = []\n",
    "\n",
    "for val1 in np.arange(0, len(non_rep_pwidth)):\n",
    "    if non_rep_pwidth[val1] <= 35:\n",
    "        non_rep_pwidthless35.append(non_rep_pwidth[val1])\n",
    "        \n",
    "print(non_rep_pwidthless35)"
   ]
  },
  {
   "cell_type": "code",
   "execution_count": 55,
   "id": "e8f9c46c",
   "metadata": {},
   "outputs": [
    {
     "data": {
      "image/png": "[encoded data removed]",
      "text/plain": [
       "<Figure size 1080x576 with 1 Axes>"
      ]
     },
     "metadata": {
      "needs_background": "light"
     },
     "output_type": "display_data"
    }
   ],
   "source": [
    "non_rep_pwidthless35\n",
    "\n",
    "fig, ax_non_reppwidth_herta = plt.subplots(1, 1, figsize = (15, 8))\n",
    "ax_non_reppwidth_herta.hist(non_rep_pwidthless35, bins = 20)\n",
    "\n",
    "ax_non_reppwidth_herta.set_ylabel('Number of FRBs', size = 15, weight = 'bold')\n",
    "ax_non_reppwidth_herta.set_xlabel('Pulse Width (in ms)', size = 15, weight = 'bold')\n",
    "ax_non_reppwidth_herta.set_title('Pulse Width Histogram for non-repeating FRBs using data from Herta catalogue ', size = 15, weight = 'bold')\n",
    "\n",
    "plt.savefig('/home/astroguy/Desktop/Research/non_repeater_plot.pdf')\n",
    "plt.show()"
   ]
  },
  {
   "cell_type": "code",
   "execution_count": null,
   "id": "65f1d519",
   "metadata": {},
   "outputs": [],
   "source": []
  },
  {
   "cell_type": "code",
   "execution_count": null,
   "id": "9898468f",
   "metadata": {},
   "outputs": [],
   "source": [
    "int_width = [4.78, 23.43, 4.08, 5.16, 0.10, 5.80, 3.33, 2.53, 16.73, 6.46, 2.48, 0.14, 3.70, 1.78, 2.93, 3.04, 4.20, \n",
    "            2.53, 6.90, 1.92]"
   ]
  },
  {
   "cell_type": "code",
   "execution_count": null,
   "id": "66035911",
   "metadata": {},
   "outputs": [],
   "source": [
    "anderson(int_width)"
   ]
  },
  {
   "cell_type": "markdown",
   "id": "9206c644",
   "metadata": {},
   "source": [
    "### Testing author's work with AD test analysis for repeater's data"
   ]
  },
  {
   "cell_type": "code",
   "execution_count": 47,
   "id": "1b0e4777",
   "metadata": {},
   "outputs": [],
   "source": [
    "observed_pwidth = [4.82, 23.45, 4.62, 5.27, 1.01, 5.90, 3.49, 2.75, 16.8, 6.55, 2.71, 1.11, 3.83, 2.10, 3.10, \n",
    "                     3.20, 4.50, 2.74, 7.00, 2.18]\n",
    "\n",
    "intrinsic_pwidth = [4.78, 23.43, 4.08, 5.16, 0.10, 5.80, 3.33, 2.53, 16.73, 6.46, 2.48, 0.14, 3.70, 1.78, 2.93, \n",
    "                    3.04, 4.20, 2.53, 6.90, 1.92]\n",
    "\n",
    "fluence = [0.372, 22.57, 101.54, 1.62, 4.75, 3.45, 1.77, 1.80, 8.50, 1.25, 5.45, 1.70, 0.50, 8.30, 2.75, 2.67, \n",
    "          3.10, 6.36, 1.80, 2.03]\n",
    "\n",
    "distance = [1.61, 0.39, 1.89, 0.58, 0.24, 1.14, 1.42, 1.90, 6.97, 1.66, 1.64, 2.35, 0.62, 2.42, 1.05, 0.77, 7.40,\n",
    "           1.49, 2.91, 1.07]\n",
    "\n",
    "luminosity = np.array(fluence)*(np.array(distance)**2)  # Luminosity = fluece * (dist)^2    In table flux density\n",
    "                                                        # is subsituted with fluence as some flux density values \n",
    "                                                        # are missing. "
   ]
  },
  {
   "cell_type": "code",
   "execution_count": 43,
   "id": "1d3f62c3",
   "metadata": {},
   "outputs": [
    {
     "data": {
      "text/plain": [
       "AndersonResult(statistic=0.4297467433047828, critical_values=array([0.506, 0.577, 0.692, 0.807, 0.96 ]), significance_level=array([15. , 10. ,  5. ,  2.5,  1. ]))"
      ]
     },
     "execution_count": 43,
     "metadata": {},
     "output_type": "execute_result"
    }
   ],
   "source": [
    "anderson(np.log(observed_pwidth))"
   ]
  },
  {
   "cell_type": "code",
   "execution_count": 44,
   "id": "1c4a1200",
   "metadata": {},
   "outputs": [
    {
     "data": {
      "text/plain": [
       "AndersonResult(statistic=1.4463782948892572, critical_values=array([0.506, 0.577, 0.692, 0.807, 0.96 ]), significance_level=array([15. , 10. ,  5. ,  2.5,  1. ]))"
      ]
     },
     "execution_count": 44,
     "metadata": {},
     "output_type": "execute_result"
    }
   ],
   "source": [
    "anderson(np.log(intrinsic_pwidth))"
   ]
  },
  {
   "cell_type": "code",
   "execution_count": 46,
   "id": "601a0782",
   "metadata": {},
   "outputs": [
    {
     "data": {
      "text/plain": [
       "AndersonResult(statistic=0.3825207521013816, critical_values=array([0.506, 0.577, 0.692, 0.807, 0.96 ]), significance_level=array([15. , 10. ,  5. ,  2.5,  1. ]))"
      ]
     },
     "execution_count": 46,
     "metadata": {},
     "output_type": "execute_result"
    }
   ],
   "source": [
    "anderson(np.log(luminosity))"
   ]
  },
  {
   "cell_type": "code",
   "execution_count": null,
   "id": "fac79b1a",
   "metadata": {},
   "outputs": [],
   "source": [
    "\n",
    "0."
   ]
  },
  {
   "cell_type": "code",
   "execution_count": null,
   "id": "216190c8",
   "metadata": {},
   "outputs": [],
   "source": [
    "1.89**2"
   ]
  },
  {
   "cell_type": "markdown",
   "id": "96cab291",
   "metadata": {},
   "source": [
    "### Testing 'anderson' and 'shapiro' function"
   ]
  },
  {
   "cell_type": "code",
   "execution_count": 79,
   "id": "5d2ffaff",
   "metadata": {},
   "outputs": [
    {
     "name": "stdout",
     "output_type": "stream",
     "text": [
      "<class 'numpy.ndarray'>\n"
     ]
    },
    {
     "data": {
      "image/png": "[encoded data removed]",
      "text/plain": [
       "<Figure size 432x288 with 1 Axes>"
      ]
     },
     "metadata": {
      "needs_background": "light"
     },
     "output_type": "display_data"
    },
    {
     "name": "stdout",
     "output_type": "stream",
     "text": [
      "This distribution is a definite normal distribution \n",
      "\n"
     ]
    },
    {
     "data": {
      "text/plain": [
       "AndersonResult(statistic=0.5807268641594376, critical_values=array([0.538, 0.613, 0.736, 0.858, 1.021]), significance_level=array([15. , 10. ,  5. ,  2.5,  1. ]))"
      ]
     },
     "execution_count": 79,
     "metadata": {},
     "output_type": "execute_result"
    },
    {
     "data": {
      "image/png": "[encoded data removed]",
      "text/plain": [
       "<Figure size 432x288 with 1 Axes>"
      ]
     },
     "metadata": {
      "needs_background": "light"
     },
     "output_type": "display_data"
    }
   ],
   "source": [
    "np.random.seed = 0\n",
    "norm_values = np.random.normal(0, 1, 50)\n",
    "print(type(norm_values))\n",
    "fig = sm.qqplot(norm_values, line = '45')\n",
    "plt.show()\n",
    "print('This distribution is a definite normal distribution', '\\n')\n",
    "plt.hist(norm_values)\n",
    "anderson(norm_values)"
   ]
  },
  {
   "cell_type": "code",
   "execution_count": 81,
   "id": "d7b7d5e2",
   "metadata": {},
   "outputs": [
    {
     "name": "stdout",
     "output_type": "stream",
     "text": [
      "Shapiro test result:\n"
     ]
    },
    {
     "data": {
      "text/plain": [
       "ShapiroResult(statistic=0.9682726860046387, pvalue=0.19669975340366364)"
      ]
     },
     "execution_count": 81,
     "metadata": {},
     "output_type": "execute_result"
    }
   ],
   "source": [
    "print('Shapiro test result:')\n",
    "\n",
    "shapiro(norm_values)"
   ]
  },
  {
   "cell_type": "markdown",
   "id": "f56eeb43",
   "metadata": {},
   "source": [
    "#### Below is a data generated randomly which may or maynot be normal."
   ]
  },
  {
   "cell_type": "code",
   "execution_count": 37,
   "id": "2b04d28c",
   "metadata": {},
   "outputs": [
    {
     "data": {
      "image/png": "[encoded data removed]",
      "text/plain": [
       "<Figure size 432x288 with 1 Axes>"
      ]
     },
     "metadata": {
      "needs_background": "light"
     },
     "output_type": "display_data"
    },
    {
     "name": "stdout",
     "output_type": "stream",
     "text": [
      "This distribution is not a definite normal distribution but coincidentally maybe one. \n",
      "\n"
     ]
    },
    {
     "data": {
      "text/plain": [
       "AndersonResult(statistic=0.885713518024076, critical_values=array([0.538, 0.613, 0.736, 0.858, 1.021]), significance_level=array([15. , 10. ,  5. ,  2.5,  1. ]))"
      ]
     },
     "execution_count": 37,
     "metadata": {},
     "output_type": "execute_result"
    },
    {
     "data": {
      "image/png": "[encoded data removed]",
      "text/plain": [
       "<Figure size 432x288 with 1 Axes>"
      ]
     },
     "metadata": {
      "needs_background": "light"
     },
     "output_type": "display_data"
    }
   ],
   "source": [
    "np.random.seed = 0\n",
    "non_norm_values = np.random.rand(50)\n",
    "fig = sm.qqplot(non_norm_values, line = '45')\n",
    "plt.show()\n",
    "print('This distribution is not a definite normal distribution but coincidentally maybe one.', '\\n')\n",
    "plt.hist(non_norm_values)\n",
    "anderson(non_norm_values)\n"
   ]
  },
  {
   "cell_type": "code",
   "execution_count": 38,
   "id": "2a305ae3",
   "metadata": {},
   "outputs": [
    {
     "data": {
      "text/plain": [
       "ShapiroResult(statistic=0.9363243579864502, pvalue=0.009664824232459068)"
      ]
     },
     "execution_count": 38,
     "metadata": {},
     "output_type": "execute_result"
    }
   ],
   "source": [
    "shapiro(non_norm_values)"
   ]
  },
  {
   "cell_type": "code",
   "execution_count": null,
   "id": "b506ed17",
   "metadata": {},
   "outputs": [],
   "source": []
  },
  {
   "cell_type": "code",
   "execution_count": null,
   "id": "45d66f53",
   "metadata": {},
   "outputs": [],
   "source": []
  },
  {
   "cell_type": "code",
   "execution_count": null,
   "id": "fc564cd5",
   "metadata": {},
   "outputs": [],
   "source": []
  },
  {
   "cell_type": "code",
   "execution_count": null,
   "id": "6f39495d",
   "metadata": {},
   "outputs": [],
   "source": []
  }
 ],
 "metadata": {
  "kernelspec": {
   "display_name": "Python 3 (ipykernel)",
   "language": "python",
   "name": "python3"
  },
  "language_info": {
   "codemirror_mode": {
    "name": "ipython",
    "version": 3
   },
   "file_extension": ".py",
   "mimetype": "text/x-python",
   "name": "python",
   "nbconvert_exporter": "python",
   "pygments_lexer": "ipython3",
   "version": "3.9.12"
  }
 },
 "nbformat": 4,
 "nbformat_minor": 5
}
